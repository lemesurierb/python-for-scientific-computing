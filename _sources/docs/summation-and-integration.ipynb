{
 "cells": [
  {
   "cell_type": "markdown",
   "metadata": {},
   "source": [
    "# Summation and Integration"
   ]
  },
  {
   "cell_type": "markdown",
   "metadata": {},
   "source": [
    "## Introduction\n",
    "\n",
    "This unit starts with the methods for approximating definite integrals seen in a calculus course like the (Composite) Midpoint Rule and (Composite) Trapezoidal Rule.\n",
    "\n",
    "As bonus exercises, we will then work through some more advanced methods as seen in a numerical methods course; the algorithms will be stated below.\n",
    "\n",
    "We will also learn more about working with modules: how to run tests while developing a module, and how to incorporate demonstrations into a notebook once a module is working."
   ]
  },
  {
   "cell_type": "markdown",
   "metadata": {},
   "source": [
    "<a name=\"Exercise-A\"></a>\n",
    "#### Exercise A: the Midpoint Rule, using a`for` loop\n",
    "\n",
    "Write a Python function to be used as\n",
    "\n",
    "    M_n = midpoint0(f, a, b, n)\n",
    "\n",
    "which returns the approximation of $I = \\int_a^b f(x) \\, dx$ given by the [Composite] Midpoint Rule with $n$ intervals of equal width.\n",
    "\n",
    "That is,\n",
    "$$\n",
    "M_n = h \\left( f(a+h/2) + f(a+3h/2) + f(a+5h/2)+ \\cdots + f(b-h/2)\\right),\n",
    "\\quad h = \\frac{b-a}{n}.\n",
    "$$\n",
    "In this first version, accumulate the sum using a `for` loop.\n",
    "\n",
    "Test this with $\\displaystyle I_1 := \\int_1^e \\frac{dx}{x}$ and several choices of $n$, such as 10 and 100.\n",
    "\n",
    "Work out the exact value, and use this to display the size of the errors in each approximation."
   ]
  },
  {
   "cell_type": "markdown",
   "metadata": {},
   "source": [
    "<a name=\"Exercise-B\"></a>\n",
    "#### Exercise B: the Midpoint Rule, using function `sum`\n",
    "\n",
    "Express the above Midpoint Rule in summation notation \"$\\Sigma$\" and reimplement as\n",
    "\n",
    "    M_n = midpoint1(f, a, b, n)\n",
    "\n",
    "using the Python function `sum` to avoid any loops.\n",
    "(Doing it this way give a code that is more concise and closer to mathematical form, so hopefully more readable; it will also probably run faster.)"
   ]
  },
  {
   "cell_type": "markdown",
   "metadata": {},
   "source": [
    "<a name=\"Exercise-C\"></a>\n",
    "#### Exercise C: the Trapezoidal Rule\n",
    "\n",
    "Write a Python function to be used as\n",
    "\n",
    "    T_n = trapezoidal(f, a, b, n)\n",
    "\n",
    "which returns the approximation of $I = \\int_a^b f(x) \\, dx$ given by the [Composite] Trapezoidal Rule with $n$ intervals of equal width.\n",
    "\n",
    "That is,\n",
    "$$\n",
    "T_n = h \\left( \\frac{f(a)}{2} + f(a+h) + \\cdots + f(b-h) + \\frac{f(b)}{2} \\right),\n",
    "\\quad h = \\frac{b-a}{n}.\n",
    "$$\n",
    "\n",
    "Use the \"`sum`\" method as in [Exercise B](#Exercise-B) above; no loops allowed!\n",
    "\n",
    "Again test this with $I_1 = \\int_1^e \\frac{dx}{x}$."
   ]
  },
  {
   "cell_type": "markdown",
   "metadata": {},
   "source": [
    "### Testing and demonstrations within a module file\n",
    "\n",
    "Create each of these three functions in a module `integration`.\n",
    "\n",
    "#### Option A: using Spyder and IPython command line\n",
    "\n",
    "Place the test cases below the function definitions within one or more `if` blocks starting\n",
    "\n",
    "`if __name__ == \"__main__\":`\n",
    "\n",
    "(Each of those long dashes is a *pair* of underscores.)\n",
    "\n",
    "The contents of such an `if` block are executed when you run the file directly (as if it were a normal Python program file) but are ignored when the module is used with `import` from another file.\n",
    "Thus, these blocks can be used while developing the module, and later to provide a demonstration of the module's capabilities.\n",
    "\n",
    "#### Option B: using just notebooks and module files\n"
   ]
  },
  {
   "cell_type": "markdown",
   "metadata": {},
   "source": [
    "As you may have seen, importing a module a second or subsequent time from another Python file or notebook does not get the updated version of the module's contents unless you restart the Python kernel.\n",
    "(Python does this to avoid duplicated effort when the same module is mentioned in several import statements in a file.)\n",
    "Thus while revising a module, it is more convenient to treat it like a normal Python file, testing from within by this method rather than by importing elsewhere."
   ]
  },
  {
   "cell_type": "markdown",
   "metadata": {},
   "source": [
    "<a name=\"Exercise-D\"></a>\n",
    "#### Exercise D: present your work so far with a notebook\n",
    "\n",
    "*Once the module is working* for the above three methods, create a notebook which imports those functions and runs various examples with them.\n",
    "(That is, **copy** all the stuff from within the above `if __name__ == \"__main__\":` blocks to the notebook.)\n",
    "\n",
    "The notebook should also describe the mathematical background; in particular, the formulas for all the methods."
   ]
  },
  {
   "cell_type": "markdown",
   "metadata": {},
   "source": [
    "<a name=\"Exercise-E\"></a>\n",
    "#### Bonus Exercise E: a more accurate result\n",
    "\n",
    "Define another Python function\n",
    "which uses the above functions to compute the \"weighted average\"\n",
    "$\\displaystyle S_n = \\frac{2 M_n + T_n}{3}.$\n",
    "\n",
    "Yes, this is the Composite Simpson Rule, so make it\n",
    "\n",
    "    S_n = simpson(f, a, b, n)\n",
    "\n",
    "Compare its accuracy to that of $M_n$ and $T_n$.\n",
    "\n",
    "Still do testing within the module file, but also add demonstrations to the above notebook once you are sure that this function is working."
   ]
  },
  {
   "cell_type": "markdown",
   "metadata": {},
   "source": [
    "<a name=\"Exercise-F\"></a>\n",
    "#### Bonus Exercise F: The Romberg Method\n",
    "\n",
    "The Romberg method generates a triangular array of approximations $R_{i,j}, j \\leq i$ of an integral $I = \\int_a^b f(x)\\; dx$ with the end-of-row values $R_{0,0}, R_{1,1}, \\dots R_{n,n}$ being the main, successively better (usually) approximations."
   ]
  },
  {
   "cell_type": "markdown",
   "metadata": {},
   "source": [
    "It starts with the trapezoid rule\n",
    "$R_{0,0} := T_1 = \\frac{f(a) + f(b)}{2}(b-a)$; the basic trapezoid rule.\n",
    "\n",
    "Then using $T_{2n} = \\frac{T_n + M_n}{2}$, one defines\n",
    "\n",
    "$$\n",
    "R_{i, 0} := T_{2_i} = \\frac{T_{2^{i}/2} + M_{2^{i}/2}}{2} = \\frac{T_{2^{i-1}} + M_{2^{i-1}}}{2} = \\frac{R_{i-1, 0} + M_{2^{i-1}}}{2}, \\quad i \\geq 1\n",
    "$$"
   ]
  },
  {
   "cell_type": "markdown",
   "metadata": {},
   "source": [
    "Finally, Richardson extrapolation leads to\n",
    "$$\n",
    "R_{i,1} := S_{2^i} = \\frac{4 T_{2^i} - T_{2^i/2}}{4 - 1} = \\frac{4 R_{i,0} - R_{i-1,0}}{4 - 1} = R_{i,0} + \\frac{R_{i,0} - R_{i-1,0}}{4 - 1}, \\; i \\geq 1\n",
    "$$\n",
    "and with further extrapolations to the more general formula\n",
    "$$\n",
    "R_{i,j} := \\frac{4^j R_{i,j-1} - R_{i-1,j-1}}{4^j - 1} = R_{i,j-1} + \\frac{R_{i,j-1} - R_{i-1,j-1}}{4^i - 1}, \\; 1 \\leq j \\leq i\n",
    "$$"
   ]
  },
  {
   "cell_type": "markdown",
   "metadata": {},
   "source": [
    "Implement this, using these three formulas plus the above function for the composite midpoint rule.\n",
    "\n",
    "One natural data structure is a 2D array with unused entries above the main diagonal.\n",
    "However, you might consider how to store this triangular collection of data as a list of lists, succesively of lengths 1, 2 and so on up to $n$."
   ]
  },
  {
   "cell_type": "markdown",
   "metadata": {},
   "source": [
    "### Final exercise: complete the notebook\n",
    "\n",
    "Add further test cases; one interesting type of example is a periodic function."
   ]
  }
 ],
 "metadata": {
  "kernelspec": {
   "display_name": "Python 3",
   "language": "python",
   "name": "python3"
  },
  "language_info": {
   "codemirror_mode": {
    "name": "ipython",
    "version": 3
   },
   "file_extension": ".py",
   "mimetype": "text/x-python",
   "name": "python",
   "nbconvert_exporter": "python",
   "pygments_lexer": "ipython3",
   "version": "3.8.3"
  }
 },
 "nbformat": 4,
 "nbformat_minor": 4
}

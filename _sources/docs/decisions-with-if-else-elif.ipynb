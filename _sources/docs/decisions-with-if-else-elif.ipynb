{
 "cells": [
  {
   "cell_type": "markdown",
   "metadata": {},
   "source": [
    "# Decision Making With if, else, and elif"
   ]
  },
  {
   "cell_type": "markdown",
   "metadata": {},
   "source": [
    "**Note:** Using Jupyter notebbooks — or starting to explore Spyder.\n",
    "\n",
    "For the exercises here (and in later units) you can work in a Jupyter notebook, or if you prefer, you can start working with Python code files (suffix \".py\"), using the Spyder IDE.\n",
    "\n",
    "If you work with Python files, then also put that code into a notebook (suggested name \"Unit02.ipynb\") and submit both the notebook and any Python files. "
   ]
  },
  {
   "cell_type": "markdown",
   "metadata": {},
   "source": [
    "## Introduction\n",
    "\n",
    "To move beyond using Python to execute a simple sequence of commands, two new algorithmic features are needed: *decision making* and *repetition (with variation)*.\n",
    "In this unit we look at decision making, using *conditional statements*; `if` statements."
   ]
  },
  {
   "cell_type": "markdown",
   "metadata": {},
   "source": [
    "We first see the simplest case of either doing something or not, depending on some condition; here, avoiding division by zero.\n",
    "The code we will use first is:\n",
    "\n",
    "    if b == 0:\n",
    "        print('Do you really want to try dividing by zero?!')\n",
    "    print(f'{a}/{b} = {a/b}')"
   ]
  },
  {
   "cell_type": "markdown",
   "metadata": {},
   "source": [
    "Now to test it with various values of `a` and `b`.\n",
    "\n",
    "Initially I will duplicate the code for each test case, but later we will see how to avoid repeating yourself, by either editing the code in the notebook or using commands for repetition."
   ]
  },
  {
   "cell_type": "markdown",
   "metadata": {},
   "source": [
    "It is all fine with"
   ]
  },
  {
   "cell_type": "code",
   "execution_count": 1,
   "metadata": {},
   "outputs": [],
   "source": [
    "a = 4\n",
    "b = 3"
   ]
  },
  {
   "cell_type": "code",
   "execution_count": 2,
   "metadata": {},
   "outputs": [
    {
     "name": "stdout",
     "output_type": "stream",
     "text": [
      "4/3 = 1.3333333333333333\n"
     ]
    }
   ],
   "source": [
    "if b == 0:\n",
    "    print('Do you really want to try dividing by zero?!')\n",
    "print(f'{a}/{b} = {a/b}')"
   ]
  },
  {
   "cell_type": "markdown",
   "metadata": {},
   "source": [
    "but not with"
   ]
  },
  {
   "cell_type": "code",
   "execution_count": 3,
   "metadata": {},
   "outputs": [],
   "source": [
    "a = 4\n",
    "b = 0"
   ]
  },
  {
   "cell_type": "code",
   "execution_count": 4,
   "metadata": {},
   "outputs": [
    {
     "name": "stdout",
     "output_type": "stream",
     "text": [
      "Do you really want to try dividing by zero?!\n"
     ]
    },
    {
     "ename": "ZeroDivisionError",
     "evalue": "division by zero",
     "output_type": "error",
     "traceback": [
      "\u001b[0;31m---------------------------------------------------------------------------\u001b[0m",
      "\u001b[0;31mZeroDivisionError\u001b[0m                         Traceback (most recent call last)",
      "\u001b[0;32m<ipython-input-4-87a112b07258>\u001b[0m in \u001b[0;36m<module>\u001b[0;34m\u001b[0m\n\u001b[1;32m      1\u001b[0m \u001b[0;32mif\u001b[0m \u001b[0mb\u001b[0m \u001b[0;34m==\u001b[0m \u001b[0;36m0\u001b[0m\u001b[0;34m:\u001b[0m\u001b[0;34m\u001b[0m\u001b[0;34m\u001b[0m\u001b[0m\n\u001b[1;32m      2\u001b[0m     \u001b[0mprint\u001b[0m\u001b[0;34m(\u001b[0m\u001b[0;34m'Do you really want to try dividing by zero?!'\u001b[0m\u001b[0;34m)\u001b[0m\u001b[0;34m\u001b[0m\u001b[0;34m\u001b[0m\u001b[0m\n\u001b[0;32m----> 3\u001b[0;31m \u001b[0mprint\u001b[0m\u001b[0;34m(\u001b[0m\u001b[0;34mf'a/b = {a/b}'\u001b[0m\u001b[0;34m)\u001b[0m\u001b[0;34m\u001b[0m\u001b[0;34m\u001b[0m\u001b[0m\n\u001b[0m",
      "\u001b[0;31mZeroDivisionError\u001b[0m: division by zero"
     ]
    }
   ],
   "source": [
    "if b == 0:\n",
    "    print('Do you really want to try dividing by zero?!')\n",
    "print(f'a/b = {a/b}')"
   ]
  },
  {
   "cell_type": "markdown",
   "metadata": {},
   "source": [
    "There are several points to note here:\n",
    "1. Testing for equality is done with a **double equal sign**, to distinguish from assigning a value to the variable at the left, which is what `b = 0` does.\n",
    "\n",
    "2. Statement like the above `if ...` that control the execution of a subsequent list or *block* of statements ends with a colon, and statements in the following block are indented by **four spaces**. *Avoid using tabs for indentation!*  (The JupyterLab and Spyder editors do this indentation automatically when you press \"return\" after a line of code that ends with a colon.)\n",
    "\n",
    "3. The end of the collection of controlled statements in indicated simply by the end of that indentation; unlike some other programming languages, there is no line `end`, or `end if` or such. So the second `print` statement is not in the \"if block\", and is executed regardless of what happens in the `if` statement.\n",
    "\n",
    "4. Thus we see that in Python, *indentation has meaning*; it is not just for readability. (Aside: this and the previous point mimic typical English language style for lists, as indeed in the current cell!)\n",
    "\n",
    "5. This code illustrates a classic bit of bad programming: detecting a problem but then not doing anything about it!\n",
    "\n",
    "On that last point, the next form of conditional statement specifies actions for both the `True` and `False` cases, using an `else` clause for the latter:"
   ]
  },
  {
   "cell_type": "code",
   "execution_count": null,
   "metadata": {},
   "outputs": [],
   "source": [
    "a = 4\n",
    "b = 0"
   ]
  },
  {
   "cell_type": "code",
   "execution_count": null,
   "metadata": {},
   "outputs": [],
   "source": [
    "if b == 0:\n",
    "    print('You cannot divide by zero! Try changing the value of b and rerun this cell.')\n",
    "else:\n",
    "    print(f'{a}/{b} = {a/b}')"
   ]
  },
  {
   "cell_type": "markdown",
   "metadata": {},
   "source": [
    "We can break this into pieces, to see first what `b == 0` does:"
   ]
  },
  {
   "cell_type": "code",
   "execution_count": null,
   "metadata": {},
   "outputs": [],
   "source": [
    "answer = (b == 0)\n",
    "print(f\"The answer is {answer}\")"
   ]
  },
  {
   "cell_type": "markdown",
   "metadata": {},
   "source": [
    "Note that logical statements like `b == 0` have value either `True` or `False` — and remember that these are case sensitive; \"true\" and \"false\" have no special meaning."
   ]
  },
  {
   "cell_type": "code",
   "execution_count": null,
   "metadata": {},
   "outputs": [],
   "source": [
    "if answer:\n",
    "    print('You cannot divide by zero! Try changing the value of b and rerunning this cell.')\n",
    "else:\n",
    "    print(f'{a}/{b} = {a/b}')"
   ]
  },
  {
   "cell_type": "markdown",
   "metadata": {},
   "source": [
    "Next, exercise the other \"else\" option.\n",
    "\n",
    "**Aside:** it is good code development practice to use a collection of tests which ensure that every piece of code is executed."
   ]
  },
  {
   "cell_type": "code",
   "execution_count": null,
   "metadata": {},
   "outputs": [],
   "source": [
    "a = 4\n",
    "b = 3"
   ]
  },
  {
   "cell_type": "code",
   "execution_count": null,
   "metadata": {},
   "outputs": [],
   "source": [
    "answer = (b == 0)\n",
    "print(f\"The answer is {answer}\")"
   ]
  },
  {
   "cell_type": "code",
   "execution_count": null,
   "metadata": {},
   "outputs": [],
   "source": [
    "if answer:\n",
    "    print('You cannot divide by zero! Try changing the value of b and rerun this cell.')\n",
    "else:\n",
    "    print(f'{a}/{b} = {a/b}')"
   ]
  },
  {
   "cell_type": "markdown",
   "metadata": {},
   "source": [
    "**Aside: avoiding code duplication, with the `for` statement**\n",
    "\n",
    "We will learn about commands for repetition in a later unit, but just as a preview, here is an example of how to do a succession of similar things without duplicating lines of code.\n",
    "\n",
    "Also note the two levels of indentation, each with four spaces."
   ]
  },
  {
   "cell_type": "code",
   "execution_count": null,
   "metadata": {},
   "outputs": [],
   "source": [
    "a = 4\n",
    "for b in [3, 0]:\n",
    "    print(f'With a = {a} and b = {b},')\n",
    "    if b == 0:\n",
    "        print('b is 0; you cannot divide by zero!')\n",
    "    else:\n",
    "        print(f'{a}/{b} = {a/b}')"
   ]
  },
  {
   "cell_type": "markdown",
   "metadata": {},
   "source": [
    "Here is another way to do the same thing, this time putting the more \"normal\" case first, which tends to improve readability:"
   ]
  },
  {
   "cell_type": "code",
   "execution_count": null,
   "metadata": {},
   "outputs": [],
   "source": [
    "a = 4\n",
    "b = 3"
   ]
  },
  {
   "cell_type": "code",
   "execution_count": null,
   "metadata": {},
   "outputs": [],
   "source": [
    "if b != 0:  # Note: This is the notation for \"is not equal to\".\n",
    "    print(f'{a}/{b} = {a/b}')\n",
    "else:\n",
    "    print('b is 0; you cannot divide by zero!')"
   ]
  },
  {
   "cell_type": "markdown",
   "metadata": {},
   "source": [
    "## Handling multiple possibilities\n",
    "\n",
    "More than two possibilities can be handled, using an `elif` clause (short for \"else, if\"). Let's see this, while also introducing inequality comparisons:"
   ]
  },
  {
   "cell_type": "code",
   "execution_count": null,
   "metadata": {},
   "outputs": [],
   "source": [
    "x = 4"
   ]
  },
  {
   "cell_type": "code",
   "execution_count": null,
   "metadata": {},
   "outputs": [],
   "source": [
    "if x > 0:\n",
    "    print('x is positive')\n",
    "elif x < 0:\n",
    "    print('x is negative')\n",
    "else:  # By process of elimination ...\n",
    "    print('x is zero')"
   ]
  },
  {
   "cell_type": "markdown",
   "metadata": {},
   "source": [
    "### Exercise A\n",
    "\n",
    "Test the above by changing to various other values of `x` and rerunning.\n",
    "As mentioned above, ensure that you exercise all three possibilities.\n",
    "\n",
    "While experimenting in a notebook (or Python code file), one way to do this is to edit in new values for `x` and then re-run, but for final presentation and submission of your work, do this by one of the methods seen above:\n",
    "- make multiple copies of the code, one for each chosen value of `x`.\n",
    "- be more adventurous by working out how to use a `for` statement to run a list of test cases. This is looking ahead to\n",
    "[Section 5: Iteration with for](iteration-with-for)."
   ]
  },
  {
   "cell_type": "markdown",
   "metadata": {},
   "source": [
    "## There can be as many `elif` clauses as you want.\n",
    "\n",
    "In the following, remember from [the introduction](introduction-to-python-and-jupyter-notebooks) that `a % b` is the remainder after integer division of a by b:"
   ]
  },
  {
   "cell_type": "code",
   "execution_count": null,
   "metadata": {},
   "outputs": [],
   "source": [
    "n = 36"
   ]
  },
  {
   "cell_type": "code",
   "execution_count": null,
   "metadata": {},
   "outputs": [],
   "source": [
    "if n % 10 == 0:\n",
    "    print(f'{n} is a multiple of ten')\n",
    "elif n % 5 == 0:\n",
    "    print(f'{n} is an odd multiple of five')\n",
    "elif n % 2 == 0:\n",
    "    print(f'{n} is even, but not a multiple of five.')\n",
    "else:\n",
    "    print(f'{n} has no factor of either two or five.')"
   ]
  },
  {
   "cell_type": "markdown",
   "metadata": {},
   "source": [
    "### Exercise B\n",
    "\n",
    "Again, test all four possibilities by using a suitable collection of values for `n`."
   ]
  },
  {
   "cell_type": "markdown",
   "metadata": {},
   "source": [
    "## Plan before you code!\n",
    "\n",
    "Start with written preparation and planning of your procedure, and check that with me before creating any Python code.\n",
    "\n",
    "\n",
    "You can do this on paper or a text file, but as a goal for how best to do things, you could also try to present this planing in a Jupyter notebook; then you could append the Python work to that notebook later.\n",
    "\n",
    "As part of this planning, select a collection of test cases that explore all the possibilities:\n",
    "keep in mind the goal that each line of code is executed in a least one test case (bearing in mind that `if` statements can skip some lines of code, depending on whether various statements are true or false)."
   ]
  },
  {
   "cell_type": "markdown",
   "metadata": {},
   "source": [
    "### Exercise C. Planning for robust handling of all possible \"quadratics\" $ax^2 + bx + c = 0$\n",
    "\n",
    "In the next exercise, we will create Python code that correctly handles the task of finding all the real roots of a quadratic equation $ax^2 + bx + c = 0$ for the input of any real numbers $a$, $b$ and $c$.\n",
    "\n",
    "Before writing any code, we need a written plan, distinguishing all qualitatively different cases for the input, and deciding how to handle each of them.\n",
    "(This planning and decision making will be an important requirement in many later exercises.)\n",
    "\n",
    "Produce quadratic solving code that is **robust**; handling all possible triples of real numbers a, b and c for the coefficients in equation $ax^2 + bx + c = 0$.\n",
    "\n",
    "Not all choices of those coefficients will give two distinct real roots, so work out all the possibilities, and try to handle them all."
   ]
  }
 ],
 "metadata": {
  "kernelspec": {
   "display_name": "Python 3",
   "language": "python",
   "name": "python3"
  },
  "language_info": {
   "codemirror_mode": {
    "name": "ipython",
    "version": 3
   },
   "file_extension": ".py",
   "mimetype": "text/x-python",
   "name": "python",
   "nbconvert_exporter": "python",
   "pygments_lexer": "ipython3",
   "version": "3.8.5"
  }
 },
 "nbformat": 4,
 "nbformat_minor": 4
}

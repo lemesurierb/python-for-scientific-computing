{
 "cells": [
  {
   "cell_type": "markdown",
   "metadata": {},
   "source": [
    "<a name=top></a>"
   ]
  },
  {
   "cell_type": "markdown",
   "metadata": {},
   "source": [
    "# Formatted Output and Some Text String Manipulation"
   ]
  },
  {
   "cell_type": "markdown",
   "metadata": {},
   "source": [
    "- [The function `print()`](#Function-print)\n",
    "- [f-string formatting](#F-string-formatting)\n",
    "- [Formatting numbers](#Formatting-numbers)\n",
    "- [Further reading](#Further-reading)"
   ]
  },
  {
   "cell_type": "markdown",
   "metadata": {},
   "source": [
    "<a name=Functionprint></a>\n",
    "## The function `print()` \n",
    "The basic tool for displaying information from Python to the screen is the function `print()`, as in"
   ]
  },
  {
   "cell_type": "code",
   "execution_count": 1,
   "metadata": {},
   "outputs": [
    {
     "name": "stdout",
     "output_type": "stream",
     "text": [
      "Hello world.\n"
     ]
    }
   ],
   "source": [
    "print(\"Hello world.\")"
   ]
  },
  {
   "cell_type": "markdown",
   "metadata": {},
   "source": [
    "What this actually does is convert one or more items given as its input arguments to strings of text, and then displays them on a line of output, each separated from the next by a single space.\n",
    "So it also handles numbers:"
   ]
  },
  {
   "cell_type": "code",
   "execution_count": 2,
   "metadata": {},
   "outputs": [
    {
     "name": "stdout",
     "output_type": "stream",
     "text": [
      "7\n",
      "0.3333333333333333\n"
     ]
    }
   ],
   "source": [
    "print(7)\n",
    "print(1/3)"
   ]
  },
  {
   "cell_type": "markdown",
   "metadata": {},
   "source": [
    "and variables or expressions containing text strings, numbers or other objects:"
   ]
  },
  {
   "cell_type": "code",
   "execution_count": 3,
   "metadata": {},
   "outputs": [
    {
     "name": "stdout",
     "output_type": "stream",
     "text": [
      "1 + 2 = 3\n"
     ]
    }
   ],
   "source": [
    "x = 1\n",
    "y = 2\n",
    "print(x,\"+\",y,\"=\",x+y)"
   ]
  },
  {
   "cell_type": "code",
   "execution_count": 4,
   "metadata": {},
   "outputs": [
    {
     "name": "stdout",
     "output_type": "stream",
     "text": [
      "The hours of opening of our stores are [7, 11]\n",
      "That is, from 7 am to 11 pm.\n"
     ]
    }
   ],
   "source": [
    "hours = [7, 11]\n",
    "claim = \"The hours of opening of our stores are\"\n",
    "print(claim, hours)\n",
    "print(\"That is, from\", hours[0], \"am to\", hours[1], \"pm.\")"
   ]
  },
  {
   "cell_type": "markdown",
   "metadata": {},
   "source": [
    "## F-string formatting\n",
    "\n",
    "When assembling multiple pieces of information, the above syntax can get messy;\n",
    "also, it automatically inserts a blank space between items, so does not allow us to avoid the space before \"am\" and \"pm\".\n",
    "\n",
    "Python has several methods for finer string manipulation; my favorite is *f-strings*, introduced in Python version 3.6, so I will describe only it.\n",
    "(The two older approaches are the \"%\" operator and the `.format()` method; if you want to know about them — if only for a reading knowledge of code that uses them — there is a nice overview at https://realpython.com/python-string-formatting/)\n",
    "\n",
    "\n",
    "The key idea of f-strings is that when an \"f\" is added immediately before the opening quote of a string, parts of that string within braces {...} are taken as input which is processed and the results inserted into a modifed string.\n",
    "For example, the previous `print` command above could instead be done with precise control over blank spaces as follows:"
   ]
  },
  {
   "cell_type": "code",
   "execution_count": 5,
   "metadata": {},
   "outputs": [
    {
     "name": "stdout",
     "output_type": "stream",
     "text": [
      "That is, from 7am to 11pm.\n"
     ]
    }
   ],
   "source": [
    "print(f\"That is, from {hours[0]}am to {hours[1]}pm.\")"
   ]
  },
  {
   "cell_type": "markdown",
   "metadata": {},
   "source": [
    "Actually, what happens here involves two steps:\n",
    "1. The \"f-string\" is converted to a simple, literal string.\n",
    "1. function `print(...)` then prints this literal string, as it would with any string.\n",
    "\n",
    "Thus we can do things in two parts:"
   ]
  },
  {
   "cell_type": "code",
   "execution_count": 6,
   "metadata": {},
   "outputs": [
    {
     "name": "stdout",
     "output_type": "stream",
     "text": [
      "Our stores are open from 7am till 11pm.\n"
     ]
    }
   ],
   "source": [
    "hours_of_operation = f\"Our stores are open from {hours[0]}am till {hours[1]}pm.\"\n",
    "print(hours_of_operation)"
   ]
  },
  {
   "cell_type": "markdown",
   "metadata": {},
   "source": [
    "Sometimes this is useful, because strings get used in other places besides `print()`, such as the titles and labels of a graph, and as we will see next, it can be convenient to assemble a statement piece at a time and then print the whole thing; for this, we use \"addition\" of strings, which is concatenation.\n",
    "\n",
    "Note also the explicit insertion of spaces and such."
   ]
  },
  {
   "cell_type": "code",
   "execution_count": 7,
   "metadata": {},
   "outputs": [
    {
     "name": "stdout",
     "output_type": "stream",
     "text": [
      "When do stores open? Stores open at 7am. — When do stores close? Stores close at 11pm.\n"
     ]
    }
   ],
   "source": [
    "q1 = \"When do stores open?\"\n",
    "a1 = f\"Stores open at {hours[0]}am.\"\n",
    "q2 = \"When do stores close?\"\n",
    "a2 = f\"Stores close at {hours[1]}pm.\"\n",
    "faq = q1+' '+a1+' — '+q2+' '+a2\n",
    "print(faq)"
   ]
  },
  {
   "cell_type": "markdown",
   "metadata": {},
   "source": [
    "## Formatting numbers\n",
    "\n",
    "The information printed above came out alright, but there are several reasons we might want finer control over the display, especially with real numbers (type `float`)\n",
    "- Choosing the number of significant digits or correct decimals to display for a `float` (real number).\n",
    "- Controlling the width a number's display (for example, in order to line up columns).\n",
    "\n",
    "First, width control.\n",
    "The following is slightly ugly due to the shifts right."
   ]
  },
  {
   "cell_type": "code",
   "execution_count": 8,
   "metadata": {},
   "outputs": [
    {
     "name": "stdout",
     "output_type": "stream",
     "text": [
      "4^0 = 1\n",
      "4^1 = 4\n",
      "4^2 = 16\n",
      "4^3 = 64\n",
      "4^4 = 256\n",
      "4^5 = 1024\n",
      "4^6 = 4096\n",
      "4^7 = 16384\n",
      "4^8 = 65536\n",
      "4^9 = 262144\n",
      "4^10 = 1048576\n"
     ]
    }
   ],
   "source": [
    "for exponent in range(11):\n",
    "    print(f\"4^{exponent} = {4**exponent}\")"
   ]
  },
  {
   "cell_type": "markdown",
   "metadata": {},
   "source": [
    "To line things up, we can specify that each output item has as many spaces as the widest of them needs: 2 and 7 columns respectively, with syntax`{quantity:width}`"
   ]
  },
  {
   "cell_type": "code",
   "execution_count": 9,
   "metadata": {},
   "outputs": [
    {
     "name": "stdout",
     "output_type": "stream",
     "text": [
      "4^ 0 =       1\n",
      "4^ 1 =       4\n",
      "4^ 2 =      16\n",
      "4^ 3 =      64\n",
      "4^ 4 =     256\n",
      "4^ 5 =    1024\n",
      "4^ 6 =    4096\n",
      "4^ 7 =   16384\n",
      "4^ 8 =   65536\n",
      "4^ 9 =  262144\n",
      "4^10 = 1048576\n"
     ]
    }
   ],
   "source": [
    "for exponent in range(11):\n",
    "    print(f\"4^{exponent:2} = {4**exponent:7}\")"
   ]
  },
  {
   "cell_type": "markdown",
   "metadata": {},
   "source": [
    "That is still a bit strange with the exponents, because the output is right-justified.\n",
    "Left-justified would be better, and is done with a \"<\" before the width.\n",
    "(As you might guess, \">\" can be used to explicitly specify right-justification)."
   ]
  },
  {
   "cell_type": "code",
   "execution_count": 10,
   "metadata": {},
   "outputs": [
    {
     "name": "stdout",
     "output_type": "stream",
     "text": [
      "4^0  =       1\n",
      "4^1  =       4\n",
      "4^2  =      16\n",
      "4^3  =      64\n",
      "4^4  =     256\n",
      "4^5  =    1024\n",
      "4^6  =    4096\n",
      "4^7  =   16384\n",
      "4^8  =   65536\n",
      "4^9  =  262144\n",
      "4^10 = 1048576\n"
     ]
    }
   ],
   "source": [
    "for exponent in range(11):\n",
    "    print(f\"4^{exponent:<2} = {4**exponent:>7}\")"
   ]
  },
  {
   "cell_type": "markdown",
   "metadata": {},
   "source": [
    "Next, dealing with `float` (real) numbers: alignment, significant digits, and scientific notation vs fixed decimal form.\n",
    "\n",
    "Looking at:"
   ]
  },
  {
   "cell_type": "code",
   "execution_count": 11,
   "metadata": {},
   "outputs": [
    {
     "name": "stdout",
     "output_type": "stream",
     "text": [
      "4^-0  = 1.0\n",
      "4^-1  = 0.25\n",
      "4^-2  = 0.0625\n",
      "4^-3  = 0.015625\n",
      "4^-4  = 0.00390625\n",
      "4^-5  = 0.0009765625\n",
      "4^-6  = 0.000244140625\n",
      "4^-7  = 6.103515625e-05\n",
      "4^-8  = 1.52587890625e-05\n",
      "4^-9  = 3.814697265625e-06\n",
      "4^-10 = 9.5367431640625e-07\n"
     ]
    }
   ],
   "source": [
    "for exponent in range(11):\n",
    "    print(f\"4^-{exponent:<2} = {1/4**exponent}\")"
   ]
  },
  {
   "cell_type": "markdown",
   "metadata": {},
   "source": [
    "... we see several things:\n",
    "- real numbers are by default left justified, as opposed to the default right justification of integers.\n",
    "- some automatic decision is made about when to use scientific notation, where the part after \"e\" is the exponent (base 10). [Roughly the shorter of the two options is used.]\n",
    "- The number of significant digits can be excessive: the full 16 decimal place precision of 64-bit numbers is often not needed or wanted.\n",
    "\n",
    "These can be adjusted.\n",
    "Justification was already mentioned, so the next new feature is an optional letter after the width value, to specify more about how to format the data:\n",
    "- 'd' specifies an integer (but this is the default when the value is known to be of type `int`)\n",
    "- 'f' specifies fixed width format for a `float`; no exponent\n",
    "- 'e' specifies scientific notation format for a `float`; with exponent\n",
    "- 'g' specifies that a `float` is formatted either 'f' or 'e', based on criteria like which conveys the most precision in a given amount of space.\n",
    "\n",
    "All three format specifiers for type `float` also impose a lower limit on how many digits are displayed; about seven:"
   ]
  },
  {
   "cell_type": "code",
   "execution_count": 12,
   "metadata": {},
   "outputs": [
    {
     "name": "stdout",
     "output_type": "stream",
     "text": [
      "4^-0  = 1.000000\n",
      "4^-1  = 0.250000\n",
      "4^-2  = 0.062500\n",
      "4^-3  = 0.015625\n",
      "4^-4  = 0.003906\n",
      "4^-5  = 0.000977\n",
      "4^-6  = 0.000244\n",
      "4^-7  = 0.000061\n",
      "4^-8  = 0.000015\n",
      "4^-9  = 0.000004\n",
      "4^-10 = 0.000001\n"
     ]
    }
   ],
   "source": [
    "for exponent in range(11):\n",
    "    print(f\"4^-{exponent:<2d} = {1/4**exponent:f}\")"
   ]
  },
  {
   "cell_type": "code",
   "execution_count": 13,
   "metadata": {},
   "outputs": [
    {
     "name": "stdout",
     "output_type": "stream",
     "text": [
      "4^-0  = 1.000000e+00\n",
      "4^-1  = 2.500000e-01\n",
      "4^-2  = 6.250000e-02\n",
      "4^-3  = 1.562500e-02\n",
      "4^-4  = 3.906250e-03\n",
      "4^-5  = 9.765625e-04\n",
      "4^-6  = 2.441406e-04\n",
      "4^-7  = 6.103516e-05\n",
      "4^-8  = 1.525879e-05\n",
      "4^-9  = 3.814697e-06\n",
      "4^-10 = 9.536743e-07\n"
     ]
    }
   ],
   "source": [
    "for exponent in range(11):\n",
    "    print(f\"4^-{exponent:<2} = {1/4**exponent:e}\")"
   ]
  },
  {
   "cell_type": "code",
   "execution_count": 14,
   "metadata": {},
   "outputs": [
    {
     "name": "stdout",
     "output_type": "stream",
     "text": [
      "4^-0  = 1\n",
      "4^-1  = 0.25\n",
      "4^-2  = 0.0625\n",
      "4^-3  = 0.015625\n",
      "4^-4  = 0.00390625\n",
      "4^-5  = 0.000976562\n",
      "4^-6  = 0.000244141\n",
      "4^-7  = 6.10352e-05\n",
      "4^-8  = 1.52588e-05\n",
      "4^-9  = 3.8147e-06\n",
      "4^-10 = 9.53674e-07\n"
     ]
    }
   ],
   "source": [
    "for exponent in range(11):\n",
    "    print(f\"4^-{exponent:<2} = {1/4**exponent:g}\")"
   ]
  },
  {
   "cell_type": "markdown",
   "metadata": {},
   "source": [
    "To control precision, the width specifier gains a \"decimal\" `p`, with `{...:w.p}` specifying p decimal places or significant digits, depending on context.\n",
    "Also, the width can be omitted if only precision matters, not spacing.\n",
    "\n",
    "Let's ask for 9 digits:"
   ]
  },
  {
   "cell_type": "code",
   "execution_count": 15,
   "metadata": {},
   "outputs": [
    {
     "name": "stdout",
     "output_type": "stream",
     "text": [
      "4^-0  = 1.000000000\n",
      "4^-1  = 0.250000000\n",
      "4^-2  = 0.062500000\n",
      "4^-3  = 0.015625000\n",
      "4^-4  = 0.003906250\n",
      "4^-5  = 0.000976562\n",
      "4^-6  = 0.000244141\n",
      "4^-7  = 0.000061035\n",
      "4^-8  = 0.000015259\n",
      "4^-9  = 0.000003815\n",
      "4^-10 = 0.000000954\n"
     ]
    }
   ],
   "source": [
    "for exponent in range(11):\n",
    "    print(f\"4^-{exponent:<2d} = {1/4**exponent:.9f}\")"
   ]
  },
  {
   "cell_type": "code",
   "execution_count": 16,
   "metadata": {},
   "outputs": [
    {
     "name": "stdout",
     "output_type": "stream",
     "text": [
      "4^-0  = 1.000000000e+00\n",
      "4^-1  = 2.500000000e-01\n",
      "4^-2  = 6.250000000e-02\n",
      "4^-3  = 1.562500000e-02\n",
      "4^-4  = 3.906250000e-03\n",
      "4^-5  = 9.765625000e-04\n",
      "4^-6  = 2.441406250e-04\n",
      "4^-7  = 6.103515625e-05\n",
      "4^-8  = 1.525878906e-05\n",
      "4^-9  = 3.814697266e-06\n",
      "4^-10 = 9.536743164e-07\n"
     ]
    }
   ],
   "source": [
    "for exponent in range(11):\n",
    "    print(f\"4^-{exponent:<2} = {1/4**exponent:.9e}\")"
   ]
  },
  {
   "cell_type": "markdown",
   "metadata": {},
   "source": [
    "Putting it all together, here are width and precision specified.\n",
    "\n",
    "Note that text string pieces can also have width specifications; for example, to align columns:"
   ]
  },
  {
   "cell_type": "code",
   "execution_count": 17,
   "metadata": {},
   "outputs": [
    {
     "name": "stdout",
     "output_type": "stream",
     "text": [
      "        fixed point    scientific notation\n",
      "4^-0  = 1.000000000, = 1.000000000e+00\n",
      "4^-1  = 0.250000000, = 2.500000000e-01\n",
      "4^-2  = 0.062500000, = 6.250000000e-02\n",
      "4^-3  = 0.015625000, = 1.562500000e-02\n",
      "4^-4  = 0.003906250, = 3.906250000e-03\n",
      "4^-5  = 0.000976562, = 9.765625000e-04\n",
      "4^-6  = 0.000244141, = 2.441406250e-04\n",
      "4^-7  = 0.000061035, = 6.103515625e-05\n",
      "4^-8  = 0.000015259, = 1.525878906e-05\n",
      "4^-9  = 0.000003815, = 3.814697266e-06\n",
      "4^-10 = 0.000000954, = 9.536743164e-07\n"
     ]
    }
   ],
   "source": [
    "print(f\"{'':8}{'fixed point':15}{'scientific notation':16}\")\n",
    "for exponent in range(11):\n",
    "    print(f\"4^-{exponent:<2} = {1/4**exponent:11.9f}, = {1/4**exponent:0.9e}\")"
   ]
  },
  {
   "cell_type": "markdown",
   "metadata": {},
   "source": [
    "Another observation: the last text string 'scientific notation' was too long for the specified 16 columns, and the \"e\" format for the second version of the power definitely needed more than the 0 columns requested.\n",
    "So they went over, rather than getting truncated — the width specification is just a minimum."
   ]
  },
  {
   "cell_type": "markdown",
   "metadata": {},
   "source": [
    "<a name=Further-reading></a>\n",
    "### Further reading, and a P. S.:\n",
    "\n",
    "- https://realpython.com/python-f-strings/\n",
    "- As always, consider the function `help()`, as below"
   ]
  },
  {
   "cell_type": "code",
   "execution_count": 18,
   "metadata": {},
   "outputs": [
    {
     "name": "stdout",
     "output_type": "stream",
     "text": [
      "Help on built-in function print in module builtins:\n",
      "\n",
      "print(...)\n",
      "    print(value, ..., sep=' ', end='\\n', file=sys.stdout, flush=False)\n",
      "    \n",
      "    Prints the values to a stream, or to sys.stdout by default.\n",
      "    Optional keyword arguments:\n",
      "    file:  a file-like object (stream); defaults to the current sys.stdout.\n",
      "    sep:   string inserted between values, default a space.\n",
      "    end:   string appended after the last value, default a newline.\n",
      "    flush: whether to forcibly flush the stream.\n",
      "\n"
     ]
    }
   ],
   "source": [
    "help(print)"
   ]
  },
  {
   "cell_type": "markdown",
   "metadata": {},
   "source": [
    "By default a single space is inserted between items.\n",
    "\n",
    "You can change that with the optional argument \"sep\":"
   ]
  },
  {
   "cell_type": "code",
   "execution_count": 19,
   "metadata": {},
   "outputs": [
    {
     "name": "stdout",
     "output_type": "stream",
     "text": [
      "1+1=2\n"
     ]
    }
   ],
   "source": [
    "print(1,\"+\",1,'=',1+1,sep=\"\")"
   ]
  },
  {
   "cell_type": "code",
   "execution_count": 20,
   "metadata": {},
   "outputs": [
    {
     "name": "stdout",
     "output_type": "stream",
     "text": [
      "1 ... + ... 1 ... = ... 2\n"
     ]
    }
   ],
   "source": [
    "print(1,\"+\",1,'=',1+1,sep=\" ... \")"
   ]
  },
  {
   "cell_type": "markdown",
   "metadata": {},
   "source": [
    "Also, by default the output line is ended at the end of a `print` command; technically, an \"end of line\" character \"\\n\" is added at the end of the output string.\n",
    "\n",
    "One can change this with the optional argument \"end\", for example to allow a single line to be assembled in pieces, or to specify double spacing."
   ]
  },
  {
   "cell_type": "markdown",
   "metadata": {},
   "source": [
    "No new line after `print`:"
   ]
  },
  {
   "cell_type": "code",
   "execution_count": 21,
   "metadata": {},
   "outputs": [
    {
     "name": "stdout",
     "output_type": "stream",
     "text": [
      "1 ... 2 ... 3 ... 4 ... 5 ... 6 ... 7 ... 8 ... 9 ... 10\n"
     ]
    }
   ],
   "source": [
    "for count_to_10 in range(1, 11):\n",
    "    print(count_to_10,sep=\"\",end=\"\")\n",
    "    if count_to_10 < 10:  # there is more to come after this item\n",
    "        print(\" ... \",sep=\"\",end=\"\")\n",
    "    else: print()  # end the line at last"
   ]
  },
  {
   "cell_type": "markdown",
   "metadata": {},
   "source": [
    "Double spacing:"
   ]
  },
  {
   "cell_type": "code",
   "execution_count": 22,
   "metadata": {},
   "outputs": [
    {
     "name": "stdout",
     "output_type": "stream",
     "text": [
      "1\n",
      "\n",
      "2\n",
      "\n",
      "3\n",
      "\n",
      "4\n",
      "\n",
      "5\n",
      "\n",
      "6\n",
      "\n",
      "7\n",
      "\n",
      "8\n",
      "\n",
      "9\n",
      "\n",
      "10\n",
      "\n"
     ]
    }
   ],
   "source": [
    "for count_to_10 in range(1, 11):\n",
    "    print(count_to_10,end=\"\\n\\n\")"
   ]
  },
  {
   "cell_type": "markdown",
   "metadata": {},
   "source": [
    "[Return to the top](#top)"
   ]
  }
 ],
 "metadata": {
  "kernelspec": {
   "display_name": "Python 3",
   "language": "python",
   "name": "python3"
  },
  "language_info": {
   "codemirror_mode": {
    "name": "ipython",
    "version": 3
   },
   "file_extension": ".py",
   "mimetype": "text/x-python",
   "name": "python",
   "nbconvert_exporter": "python",
   "pygments_lexer": "ipython3",
   "version": "3.8.3"
  }
 },
 "nbformat": 4,
 "nbformat_minor": 4
}

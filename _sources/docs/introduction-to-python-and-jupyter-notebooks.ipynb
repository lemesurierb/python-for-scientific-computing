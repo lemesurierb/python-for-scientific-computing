{
 "cells": [
  {
   "cell_type": "markdown",
   "metadata": {},
   "source": [
    "<a name=\"Title-cell\"></a>\n",
    "# Introduction to Python and Jupyter notebooks\n",
    "\n",
    "*Estimated time to complete:* 60 to 90 minutes."
   ]
  },
  {
   "cell_type": "markdown",
   "metadata": {},
   "source": [
    "## Introduction\n",
    "\n",
    "Welcome to the online materials for this online course on programming in Python for mathematical computing (a.k.a. *scientific computing*).\n",
    "\n",
    "This first unit is an introduction to some basic features of the Python software that we will be using.\n",
    "Specifically, we use Python 3, and even more specifically, Python version 3.7 or higher.\n",
    "\n",
    "We start directly with [Jupyter](https://jupyter.org/) notebooks via the tool *JupyterLab* as a way to use Python interactively like a scientific calculator, and aim to work with these notebooks as much as possible.\n",
    "\n",
    "Later, we will also learn the more advanced code development tools offered by the *Integrated Development Environment* [Spyder](https://www.spyder-ide.org/).\n",
    "This supports both both interactive use of Python and also working with files of Python code: creating, opening and editing files, running and debugging code, and so on.\n",
    "It has more advanced tools for developing Python code than the Jupyter notebook system, so for more substantial programming tasks it can be better to develop code within Spyder — even if that code is then transferrred into a notebook for final presentation.\n",
    "\n",
    "However, the use of any Integrated Development Environment [\"IDE\"] is somewhat optional; it will be possible to work almost entirely with Jupyter notebooks.\n",
    "That for example would allow working with just the web-browser based system [CoCalc](https://cocalc.com/)\n",
    "\n",
    "**Aside:** There are other IDE's for Python, such as [IDLE](https://realpython.com/python-idle/); that is the original IDE for Python and is pre-installed in some computers (Mac's at least) but it is very rudimentary compared to Spyder."
   ]
  },
  {
   "cell_type": "markdown",
   "metadata": {},
   "source": [
    "## Getting Python software for scientific computing\n",
    "\n",
    "I suggest that you get [Anaconda](https://www.anaconda.com/) for you own computers, even if you also have access to it via computers on-campus.\n",
    "Get the \"current\" version based on Python 3 (more specifically, version 3.7 or higher), not the legacy version for Python 2;\n",
    "we will use some of the newer features, especially for working more easily with matrices and vectors.\n",
    "\n",
    "The various components like the [iPython console](https://ipython.org), [Spyder](https://www.spyder-ide.org/) and [Jupyter](https://jupyter.org/) can also be got separately (follow those links), but that involves getting under the hood with some command line installation activity, and maybe even compiling from source code.\n",
    "\n",
    "A possible alternative is to use the purely online resource [CoCalc](https://cocalc.com), which has a free \"trial\" version. This provides Jupyter notebooks, but not all the other useful tools like Spyder."
   ]
  },
  {
   "cell_type": "markdown",
   "metadata": {},
   "source": [
    "## \"Python Scientific\": adding three packages that make Python more useful for scientific computing\n",
    "\n",
    "[Anaconda](https://www.anaconda.com/) and its components [JupyterLab](https://jupyter.org/) and [Spyder](https://www.spyder-ide.org/) include a collection of useful resources beyond basic Python: the *packages*\n",
    "- [Numpy](http://www.numpy.org/) for numerical and scientific computing, particularly for working with vectors and matrices,\n",
    "- [Matplotlib](http://matplotlib.org/) for producing graphs of numerical data and functions, and\n",
    "- [Scipy](https://www.scipy.org/) which provides some more advanced scientific computing tools, such as for optimization and solving ordinary differential equations.\n",
    "\n",
    "This combination is often called *Python Scientific*."
   ]
  },
  {
   "cell_type": "markdown",
   "metadata": {},
   "source": [
    "## Online resources\n",
    "\n",
    "There is a vast array of free online tutorials and documentation for Python and the other tools that we are using, such as\n",
    "\n",
    "- [Real Python](https://realpython.com) and [its \"Start Here\" page](https://realpython.com/start-here/) — these notes often link to the Real Python site for supplementary reading.\n",
    "\n",
    "- http://www.learnpython.org\n",
    "\n",
    "- [The official Python documentation site](https://docs.python.org) and in particular the [tutorial for Python version 3.7](https://docs.python.org/3.7/tutorial/);\n",
    "comprehensive but a bit harder to read.\n",
    "(For now I suggest reading about this version 3.7 rather than any more recent ones, because currently some installations of Anaconda and Spyder are still based on this version, and anything said here also works for the newer versions. However, if you are curious here is [the official tutorial for the latest stable version as of October 2020, 3.9](https://docs.python.org/3.9/tutorial/).)\n",
    "\n",
    "These resources might be useful sometimes, but our direction is a bit different: aiming at what is most important to a mathematics student, rather than a computer science student.\n",
    "For our \"Python Scientific\" orientation, there is a comprehensive but more advanced reference, the [Scipy Lecture Notes](https://scipy-lectures.org/), as both a website and a downloadable PDF book.\n",
    "\n",
    "There are also official sites for Python and the most important packages:\n",
    "- https://www.python.org/\n",
    "- https://numpy.org/\n",
    "- https://matplotlib.org/\n",
    "- https://www.scipy.org/\n",
    "\n",
    "but these are not so readable as some of the sources listed above."
   ]
  },
  {
   "cell_type": "markdown",
   "metadata": {},
   "source": [
    "## Using Python as a calculator <a name=\"PythonAsCalculator\"></a>\n",
    "\n",
    "For some tasks, Python can be used much like a scientific calculator (and later, like a graphing scientific calculator);\n",
    "that is how we will work for this unit.\n",
    "\n",
    "There are multiple ways of doing this, and I invite you to experiment with them all at some stage:\n",
    "- In Jupyter notebooks (like this one), which can be accessed from within the Anaconda Navigator by opening *JupyterLab*\n",
    "- With the \"bare\" IPython console; this is available in many ways, including from the Anaconda Navigator by opening *Qt Console*\n",
    "- With Spyder, which can be accessed from within the Anaconda Navigator by opening *Spyder*; within that, there is an interactive Python console frame at bottom-right.\n",
    "\n",
    "I suggest learning one tool at a time, by using a Jupyter notebook for now; however if you wish to also try some or all of the alternatives above, go ahead!"
   ]
  },
  {
   "cell_type": "markdown",
   "metadata": {},
   "source": [
    "## Creating a course folder and a Jupyter notebook\n",
    "\n",
    "1. Create a folder within your home folder or on your desktop named something like  \"*mathematical-computing-with-python*\"; all files for this course should be put in there.\n",
    "(If you use a different name, please use one that starts with a letter and contains only letters, digits, dashes, and underscores — no spaces or other punctuation.\n",
    "Other names can work for now, but these restrictions can help to avoid problems later!)\n",
    "\n",
    "2. Open Anaconda and within Anaconda-Navigator, launch *JupyterLab*.\n",
    "\n",
    "3. In the file system navigator frame at left, get to that folder (*mathematical-computing-with-python* or whatvever).\n",
    "\n",
    "4. Use the File menu at top-left to create a new notebook.\n",
    "\n",
    "5. It will have a single cell of type \"Code\", as indicated at top-center; use that menu to change it to type \"Markdown\", which is for entering text.\n",
    "\n",
    "6. In this cell, add a *title*, your *name* and the *date*; see the title cell at the top of this notebook.  \n",
    "Note that:\n",
    "    - the single hash \"# \" (followed by a space) at the start of a line makes that line a level 1 heading.\n",
    "    - surrounding text with single asterisks is for *italic text*.\n",
    "    - surrounding text with pairs of asterisks is for **boldface text**.\n",
    "    - surrounding text with angle brackets <...> creates a link to an email address.\n",
    "\n",
    "7. Next, add a new cell below this, using the \"+\" button above; this is automatically a Code cell, and you could put all subsequent code in that cell.\n",
    "However it would be better to spread the code over multiple cells, by adding more: one for each example and exercise.\n",
    "Also, I encourage you to intersperse Markdown cells with explanatory text — that will be good practice in the longer run.\n",
    "\n",
    "Here is an example of the text to put into a simple code cell:"
   ]
  },
  {
   "cell_type": "raw",
   "metadata": {},
   "source": [
    "2 + 2"
   ]
  },
  {
   "cell_type": "markdown",
   "metadata": {},
   "source": [
    "## Running some or all cells in a notebook\n",
    "\n",
    "8. Running a Code cell executes its Python code; running a Markdown cell formats its content for nicer output.\n",
    "There are several ways to do this:\n",
    "- The \"Play\" (triangle icon) button above runs the current cell, and moves to the next cell as \"current\".\n",
    "- The menu \"Run\" above has various options — hopefully self-explanatory, at least after some experimentation.\n",
    "\n",
    "9. To get a Markdown cell back from nicely formatted \"display mode\" back to \"edit mode\", double click in it."
   ]
  },
  {
   "cell_type": "markdown",
   "metadata": {},
   "source": [
    "## Notes on organization and presentation\n",
    "\n",
    "For all exercises throughout this course, record both your input and the resulting output, in a document that you will submit for feedback and then grading.\n",
    "\n",
    "We want a written or typed record of all our work and results, and I also encourage you to make notes of other things that you learn, beyond what must be submitted — they will help later in the course!\n",
    "\n",
    "For now, one option is to make hand-written notes and then scan them to PDF for uploading,\n",
    "but it is better to create files directly, and Jupyter notebooks will usually be the best way to do that.\n",
    "\n",
    "Also note that — as just described above and for every document that you submit, hand-written or electronic — start with:\n",
    "- A *title*,\n",
    "- *your name* (possibly also with your email address), and\n",
    "- the *date*, of the **current version**.\n",
    "\n",
    "(See the [Title Cell](#Title-cell) above for example.)\n",
    "\n",
    "Revision dates will become important, as you will often be submitting successive revisions and refinements: our goal is mastery of each topic, not partial credit!"
   ]
  },
  {
   "cell_type": "markdown",
   "metadata": {},
   "source": [
    "## Arithmetic\n",
    "\n",
    "This is mostly easy stuff, but with a few quirks of notation and such to note.\n",
    "\n",
    "First, let us see how to run Python code with the following famous formula.\n",
    "In a new code cell in notebook, type the following and run it with the \"play\" button or using the \"Run\" menu.\n",
    "\n",
    "If you with to also start learning the command line interface,\n",
    "- open Spyder (or another Python tool like IPython),\n",
    "- type the following into the *IPython console* (at bottom-right in the Spyder window), and\n",
    "- press \"Return\" or \"Enter\" to get the result."
   ]
  },
  {
   "cell_type": "code",
   "execution_count": 21,
   "metadata": {},
   "outputs": [
    {
     "data": {
      "text/plain": [
       "4"
      ]
     },
     "execution_count": 21,
     "metadata": {},
     "output_type": "execute_result"
    }
   ],
   "source": [
    "2 + 2"
   ]
  },
  {
   "cell_type": "markdown",
   "metadata": {},
   "source": [
    "No prize for predicting the above result, but division of two integers requires a little care:"
   ]
  },
  {
   "cell_type": "code",
   "execution_count": 22,
   "metadata": {},
   "outputs": [
    {
     "data": {
      "text/plain": [
       "2.75"
      ]
     },
     "execution_count": 22,
     "metadata": {},
     "output_type": "execute_result"
    }
   ],
   "source": [
    "11 / 4"
   ]
  },
  {
   "cell_type": "markdown",
   "metadata": {},
   "source": [
    "Here Python 3 gives a real number answer, whereas some programing languages always given an integer answer for the division of integers, by rounding down (\"truncating\") if necessary.\n",
    "(In fact, the older version Python 2 does that, which is one reason that we avoid using it!)"
   ]
  },
  {
   "cell_type": "markdown",
   "metadata": {},
   "source": [
    "When you want the truncated, integer answer, use a double slash:"
   ]
  },
  {
   "cell_type": "code",
   "execution_count": 23,
   "metadata": {},
   "outputs": [
    {
     "data": {
      "text/plain": [
       "2"
      ]
     },
     "execution_count": 23,
     "metadata": {},
     "output_type": "execute_result"
    }
   ],
   "source": [
    "11 // 4"
   ]
  },
  {
   "cell_type": "markdown",
   "metadata": {},
   "source": [
    "and to get the remainder, use the percent sign!"
   ]
  },
  {
   "cell_type": "code",
   "execution_count": 24,
   "metadata": {},
   "outputs": [
    {
     "data": {
      "text/plain": [
       "3"
      ]
     },
     "execution_count": 24,
     "metadata": {},
     "output_type": "execute_result"
    }
   ],
   "source": [
    "11 % 4"
   ]
  },
  {
   "cell_type": "markdown",
   "metadata": {},
   "source": [
    "With multiplication, the only catch is that *there is no multplication sign on the keyboard*, so the asterisk is used instead:"
   ]
  },
  {
   "cell_type": "code",
   "execution_count": 25,
   "metadata": {},
   "outputs": [
    {
     "data": {
      "text/plain": [
       "28"
      ]
     },
     "execution_count": 25,
     "metadata": {},
     "output_type": "execute_result"
    }
   ],
   "source": [
    "7 * 4"
   ]
  },
  {
   "cell_type": "markdown",
   "metadata": {},
   "source": [
    "There is no way to type superscripts either, so exponentiation uses a double-asterisk (not the \"caret\" or up-arrow, as used in some other programming languages and calculators):"
   ]
  },
  {
   "cell_type": "code",
   "execution_count": 26,
   "metadata": {},
   "outputs": [
    {
     "data": {
      "text/plain": [
       "32"
      ]
     },
     "execution_count": 26,
     "metadata": {},
     "output_type": "execute_result"
    }
   ],
   "source": [
    "2**5"
   ]
  },
  {
   "cell_type": "markdown",
   "metadata": {},
   "source": [
    "Numbers with exponents can be expressed using this exponential notation, but note how Python outputs them:"
   ]
  },
  {
   "cell_type": "code",
   "execution_count": 27,
   "metadata": {},
   "outputs": [
    {
     "data": {
      "text/plain": [
       "5.3e+21"
      ]
     },
     "execution_count": 27,
     "metadata": {},
     "output_type": "execute_result"
    }
   ],
   "source": [
    "5.3*10**21"
   ]
  },
  {
   "cell_type": "code",
   "execution_count": 28,
   "metadata": {},
   "outputs": [
    {
     "data": {
      "text/plain": [
       "7e-08"
      ]
     },
     "execution_count": 28,
     "metadata": {},
     "output_type": "execute_result"
    }
   ],
   "source": [
    "7*10**-8"
   ]
  },
  {
   "cell_type": "markdown",
   "metadata": {},
   "source": [
    "This \"e\" notation is the standard way to describe numbers with exponents, and you can input them that way too."
   ]
  },
  {
   "cell_type": "markdown",
   "metadata": {},
   "source": [
    "When printing numbers, Python decides if the number is big enough or small enough to be worth printing with an exponent:"
   ]
  },
  {
   "cell_type": "code",
   "execution_count": 29,
   "metadata": {},
   "outputs": [
    {
     "data": {
      "text/plain": [
       "(2e-10, 3e-05, 0.0003, 50000.0, 10000000000, 6000000000000000.0, 6e+16)"
      ]
     },
     "execution_count": 29,
     "metadata": {},
     "output_type": "execute_result"
    }
   ],
   "source": [
    "2e-10, 3E-5, 3e-4, 5e+4, 10000000000, 6e15, 6e16"
   ]
  },
  {
   "cell_type": "markdown",
   "metadata": {},
   "source": [
    "**Aside:** note that either \"e\" or \"E\" can be used in input of exponents.\n",
    "However in most contexts, Python is case sensitive; we will see an example soon."
   ]
  },
  {
   "cell_type": "markdown",
   "metadata": {},
   "source": [
    "## Naming quantities and displaying values\n",
    "\n",
    "It often helps to give named to quantities, which is done with assignment statements.\n",
    "For example, to solve for $x$ in the very simple equation $ax + b = 0$ for given values of $a$ and $b$, let us name all three quantities:"
   ]
  },
  {
   "cell_type": "code",
   "execution_count": 30,
   "metadata": {},
   "outputs": [],
   "source": [
    "a = 3\n",
    "b = 7\n",
    "x = -b/a"
   ]
  },
  {
   "cell_type": "markdown",
   "metadata": {},
   "source": [
    "Running the above cell just computes the three values with no output;\n",
    "to see the values we use the function `print`:"
   ]
  },
  {
   "cell_type": "code",
   "execution_count": 31,
   "metadata": {},
   "outputs": [
    {
     "name": "stdout",
     "output_type": "stream",
     "text": [
      "3 7 -2.3333333333333335\n"
     ]
    }
   ],
   "source": [
    "print(a, b, x)"
   ]
  },
  {
   "cell_type": "markdown",
   "metadata": {},
   "source": [
    "That output does not expian things very clearly;\n",
    "we can add explanatory text to the printed results in several ways.\n",
    "Most basically:"
   ]
  },
  {
   "cell_type": "code",
   "execution_count": 32,
   "metadata": {},
   "outputs": [
    {
     "name": "stdout",
     "output_type": "stream",
     "text": [
      "For a = 3 and b = 7 the solution of ax + b = 0 is -2.3333333333333335\n"
     ]
    }
   ],
   "source": [
    "print('For a =', a, 'and b =', b, 'the solution of ax + b = 0 is', x)"
   ]
  },
  {
   "cell_type": "markdown",
   "metadata": {},
   "source": [
    "The above prints six items — three text strings (each quoted), three numbers — separated by commas.\n",
    "\n",
    "There is an alternative notation for such output, called \"f-strings\", which use braces to specify that the value of a variable (or formula) be inserted into a string of text to display:"
   ]
  },
  {
   "cell_type": "code",
   "execution_count": 33,
   "metadata": {},
   "outputs": [
    {
     "name": "stdout",
     "output_type": "stream",
     "text": [
      "For a = 3 and b = 7 the solution of ax + b = 0 is -2.3333333333333335\n"
     ]
    }
   ],
   "source": [
    "print(f'For a = {a} and b = {b} the solution of ax + b = 0 is {x}')"
   ]
  },
  {
   "cell_type": "markdown",
   "metadata": {},
   "source": [
    "In this example each pair of braces inserts the value of a variable;\n",
    "one can instead put a formula in there. So in fact we could skip the variable $x$ entirely:"
   ]
  },
  {
   "cell_type": "code",
   "execution_count": 34,
   "metadata": {},
   "outputs": [
    {
     "name": "stdout",
     "output_type": "stream",
     "text": [
      "For a = 3 and b = 7 the solution of ax + b = 0 is -2.3333333333333335\n"
     ]
    }
   ],
   "source": [
    "print(f'For a = {a} and b = {b} the solution of ax + b = 0 is {-b/a}')"
   ]
  },
  {
   "cell_type": "markdown",
   "metadata": {},
   "source": [
    "We can also display the equation more directly:"
   ]
  },
  {
   "cell_type": "code",
   "execution_count": 35,
   "metadata": {},
   "outputs": [
    {
     "name": "stdout",
     "output_type": "stream",
     "text": [
      "The solution of 3 x + 7 = 0 is -2.3333333333333335\n"
     ]
    }
   ],
   "source": [
    "print(f'The solution of {a} x + {b} = 0 is {-b/a}')"
   ]
  },
  {
   "cell_type": "markdown",
   "metadata": {},
   "source": [
    "<a name=\"module-math\"></a>\n",
    "## Some mathematical functions and constants: module <code>math</code>\n",
    "\n",
    "Python includes many **modules** and **packages** that add useful defintions of functions, constants and such, and for us, the most fundamental is `math`, which is a standard part of Python.\n",
    "\n",
    "(Later will see some other modules that are not part of standard Python, but which Anaconda, Jupyter Lab and Spyder add to the basic collection:\n",
    "`numpy`, `matplotlib` and `scipy` mentioned above, and also `pylab`, which combines much but not all of `numpy` and `matplotlib`.)\n",
    "\n",
    "We can access specific items with an `import` command;\n",
    "to start with, two variables containing famous values:"
   ]
  },
  {
   "cell_type": "code",
   "execution_count": 36,
   "metadata": {},
   "outputs": [],
   "source": [
    "from math import pi, e"
   ]
  },
  {
   "cell_type": "markdown",
   "metadata": {},
   "source": [
    "**Aside:** we will soon learn about the package `numpy` and then mostly use that instead of `math`. I mention `math` for now because it is a core part of Python whereas `numpy` is a separate \"add-on\", and you should be aware of `math` if only because many references on doing mathematical stuff with Python will refer to it.)\n",
    "\n",
    "Amongst many other things, `math` gives our two favorite trancendental numbers, accurate to about 16 significant digits:"
   ]
  },
  {
   "cell_type": "code",
   "execution_count": 37,
   "metadata": {},
   "outputs": [
    {
     "name": "stdout",
     "output_type": "stream",
     "text": [
      "pi is approximately 3.141592653589793\n"
     ]
    }
   ],
   "source": [
    "print(f'pi is approximately {pi}')"
   ]
  },
  {
   "cell_type": "code",
   "execution_count": 38,
   "metadata": {},
   "outputs": [
    {
     "name": "stdout",
     "output_type": "stream",
     "text": [
      "e is approximately 2.718281828459045\n"
     ]
    }
   ],
   "source": [
    "print(f'e is approximately {e}')"
   ]
  },
  {
   "cell_type": "markdown",
   "metadata": {},
   "source": [
    "Each is accurate to about 16 significant digits; that is the precision of the 64-bit number system standard in most modern computers."
   ]
  },
  {
   "cell_type": "markdown",
   "metadata": {},
   "source": [
    "### Names (like \"e\" and \"pi\") are case-sensitive\n",
    "\n",
    "We can now return to the comment above about case sensitivity.\n",
    "Compare the results of the following two input lines:"
   ]
  },
  {
   "cell_type": "code",
   "execution_count": 39,
   "metadata": {},
   "outputs": [
    {
     "name": "stdout",
     "output_type": "stream",
     "text": [
      "e = 2.718281828459045\n"
     ]
    }
   ],
   "source": [
    "print(f'e = {e}')"
   ]
  },
  {
   "cell_type": "code",
   "execution_count": 40,
   "metadata": {},
   "outputs": [
    {
     "ename": "NameError",
     "evalue": "name 'E' is not defined",
     "output_type": "error",
     "traceback": [
      "\u001b[0;31m---------------------------------------------------------------------------\u001b[0m",
      "\u001b[0;31mNameError\u001b[0m                                 Traceback (most recent call last)",
      "\u001b[0;32m<ipython-input-40-baf9827bc5ac>\u001b[0m in \u001b[0;36m<module>\u001b[0;34m\u001b[0m\n\u001b[0;32m----> 1\u001b[0;31m \u001b[0mprint\u001b[0m\u001b[0;34m(\u001b[0m\u001b[0;34mf'E = {E}'\u001b[0m\u001b[0;34m)\u001b[0m\u001b[0;34m\u001b[0m\u001b[0;34m\u001b[0m\u001b[0m\n\u001b[0m",
      "\u001b[0;31mNameError\u001b[0m: name 'E' is not defined"
     ]
    }
   ],
   "source": [
    "print(f'E = {E}')"
   ]
  },
  {
   "cell_type": "markdown",
   "metadata": {},
   "source": [
    "### Some <code>math</code> functions\n",
    "Module <code>math</code> also provides a lot of familiar mathematical functions"
   ]
  },
  {
   "cell_type": "code",
   "execution_count": 41,
   "metadata": {},
   "outputs": [],
   "source": [
    "from math import sin, cos, cosh"
   ]
  },
  {
   "cell_type": "markdown",
   "metadata": {},
   "source": [
    "which can be used like this:"
   ]
  },
  {
   "cell_type": "code",
   "execution_count": 42,
   "metadata": {},
   "outputs": [
    {
     "data": {
      "text/plain": [
       "0.7071067811865475"
      ]
     },
     "execution_count": 42,
     "metadata": {},
     "output_type": "execute_result"
    }
   ],
   "source": [
    "sin(pi/4)"
   ]
  },
  {
   "cell_type": "code",
   "execution_count": 43,
   "metadata": {},
   "outputs": [
    {
     "data": {
      "text/plain": [
       "-1.0"
      ]
     },
     "execution_count": 43,
     "metadata": {},
     "output_type": "execute_result"
    }
   ],
   "source": [
    "cos(pi) "
   ]
  },
  {
   "cell_type": "code",
   "execution_count": 44,
   "metadata": {},
   "outputs": [
    {
     "data": {
      "text/plain": [
       "1.0"
      ]
     },
     "execution_count": 44,
     "metadata": {},
     "output_type": "execute_result"
    }
   ],
   "source": [
    "cosh(0)"
   ]
  },
  {
   "cell_type": "markdown",
   "metadata": {},
   "source": [
    "#### Notes\n",
    "- **All** Python functions need parentheses around their arguments; no lazy shortcuts with trig. functions and such.\n",
    "- Trig. functions use radians, not degrees."
   ]
  },
  {
   "cell_type": "markdown",
   "metadata": {},
   "source": [
    "<a name='importing'></a>\n",
    "## Wild imports (mostly avoid!) versus spelling things out explicitly\n",
    "\n",
    "There is a shortcut that alows importing all quantities from a module;\n",
    "above we could have used\n",
    "\n",
    "    from math import *\n",
    "\n",
    "which means \"use everything in this module\", and is called a *wild import*.\n",
    "\n",
    "However it is usually better and safer to specify explicitly the items that you will use, as done above.\n",
    "\n",
    "A third \"middle way\" is to import the module (rathe than items from it) and then refer to items by their \"full names\" with a dot notation \"module.item\".\n",
    "For example, with"
   ]
  },
  {
   "cell_type": "code",
   "execution_count": 45,
   "metadata": {},
   "outputs": [],
   "source": [
    "import math"
   ]
  },
  {
   "cell_type": "markdown",
   "metadata": {},
   "source": [
    "we get access to many functions such as `tan`, but need to adress it by its full name `math.tan`:"
   ]
  },
  {
   "cell_type": "code",
   "execution_count": 46,
   "metadata": {},
   "outputs": [
    {
     "name": "stdout",
     "output_type": "stream",
     "text": [
      "tan(pi/4) = 0.9999999999999999\n"
     ]
    }
   ],
   "source": [
    "print(f\"tan(pi/4) = {math.tan(pi/4)}\")"
   ]
  },
  {
   "cell_type": "markdown",
   "metadata": {},
   "source": [
    "If we had not already imported `pi` above, its full name `math.pi` would also be needed, as in:"
   ]
  },
  {
   "cell_type": "code",
   "execution_count": 47,
   "metadata": {},
   "outputs": [
    {
     "name": "stdout",
     "output_type": "stream",
     "text": [
      "tan(pi/4) = 0.9999999999999999\n"
     ]
    }
   ],
   "source": [
    "print(f\"tan(pi/4) = {math.tan(math.pi/4)}\")"
   ]
  },
  {
   "cell_type": "markdown",
   "metadata": {},
   "source": [
    "**Aside:** The imperfection of computer arithmetic becomes clear:\n",
    "the exact value is 1 of course.\n",
    "However, the precision of abot 16 decimal places is far greater than for any experimental measurement, so this is usually not a problem in practice."
   ]
  },
  {
   "cell_type": "markdown",
   "metadata": {},
   "source": [
    "These more specific approaches to importing are highly recommended when creating files and programs; wild imports are best only used as a convenience when working interactively, using Python like a scientific calculator.\n",
    "\n",
    "One advantage of importing items specifically \"by name\" is that it is then unambiguous where a given item was imported from, even if multiple `import` commands are used.\n",
    "For example, we will see later than there are both `math.cos` and `numpy.cos`, and they behave differently in some situations.\n",
    "\n",
    "Another reason for explicit imports is for internal efficiency in storage and execution time; wild imports can potentially load thousands of items from a large module when only a few are used."
   ]
  },
  {
   "cell_type": "markdown",
   "metadata": {},
   "source": [
    "## Logarithmic functions\n",
    "\n",
    "There is also a function `log` in module `math`, but which base does it use?"
   ]
  },
  {
   "cell_type": "code",
   "execution_count": 48,
   "metadata": {},
   "outputs": [
    {
     "data": {
      "text/plain": [
       "2.302585092994046"
      ]
     },
     "execution_count": 48,
     "metadata": {},
     "output_type": "execute_result"
    }
   ],
   "source": [
    "math.log(10)"
   ]
  },
  {
   "cell_type": "code",
   "execution_count": 49,
   "metadata": {},
   "outputs": [
    {
     "data": {
      "text/plain": [
       "1.0"
      ]
     },
     "execution_count": 49,
     "metadata": {},
     "output_type": "execute_result"
    }
   ],
   "source": [
    "math.log(e)"
   ]
  },
  {
   "cell_type": "markdown",
   "metadata": {},
   "source": [
    "Evaluating these two expressions reveals that \"log()\" is the *natural logarithm*, base $e$;  \n",
    "what mathematicians usually call \"$\\ln$\"."
   ]
  },
  {
   "cell_type": "markdown",
   "metadata": {},
   "source": [
    "## Exercises"
   ]
  },
  {
   "cell_type": "markdown",
   "metadata": {},
   "source": [
    "#### Exercise A\n",
    "\n",
    "It is time to explore: try to find the base 10 logarithm.\n",
    "\n",
    "A big hint: look at the following, which is yet another logarithm; one of particular interest in computer science."
   ]
  },
  {
   "cell_type": "code",
   "execution_count": 50,
   "metadata": {},
   "outputs": [
    {
     "data": {
      "text/plain": [
       "6.0"
      ]
     },
     "execution_count": 50,
     "metadata": {},
     "output_type": "execute_result"
    }
   ],
   "source": [
    "math.log2(64)"
   ]
  },
  {
   "cell_type": "markdown",
   "metadata": {},
   "source": [
    "### Powers and roots\n",
    "A square root can of course be computed using the 1/2 power, as with"
   ]
  },
  {
   "cell_type": "code",
   "execution_count": 51,
   "metadata": {},
   "outputs": [
    {
     "data": {
      "text/plain": [
       "4.0"
      ]
     },
     "execution_count": 51,
     "metadata": {},
     "output_type": "execute_result"
    }
   ],
   "source": [
    "16**0.5"
   ]
  },
  {
   "cell_type": "markdown",
   "metadata": {},
   "source": [
    "but this function is important enough to have a named form provided by module <code>math</code>:"
   ]
  },
  {
   "cell_type": "code",
   "execution_count": 52,
   "metadata": {},
   "outputs": [
    {
     "data": {
      "text/plain": [
       "1.4142135623730951"
      ]
     },
     "execution_count": 52,
     "metadata": {},
     "output_type": "execute_result"
    }
   ],
   "source": [
    "math.sqrt(2)"
   ]
  },
  {
   "cell_type": "markdown",
   "metadata": {},
   "source": [
    "#### Exercise B\n",
    "\n",
    "Here is a *wrong* way to use the exponential notation in an attempt to compute a square root: explain what goes wrong!"
   ]
  },
  {
   "cell_type": "code",
   "execution_count": 53,
   "metadata": {},
   "outputs": [
    {
     "data": {
      "text/plain": [
       "8.0"
      ]
     },
     "execution_count": 53,
     "metadata": {},
     "output_type": "execute_result"
    }
   ],
   "source": [
    "16**1/2"
   ]
  },
  {
   "cell_type": "markdown",
   "metadata": {},
   "source": [
    "<a name='Exercise-C'></a>\n",
    "#### Exercise C: Devising, evaluating and modifying formulas in Python\n",
    "\n",
    "It is time to practice with creating basic Python commands for mathematical expressions.\n",
    "\n",
    "a) With the above information, warnings and examples in mind, evaluate\n",
    "$\\displaystyle \\frac{1 + \\sqrt{2}}{2 \\pi}.$\n",
    "(The correct answer is 0.384...)\n",
    "\n",
    "b) [If using Spyder/IPython,] explore IPython's command history and editing features, and use these to evaluate $\\displaystyle \\frac{1 - \\sqrt{2}}{2 \\pi}$\n",
    "by modifying the previous formula, *without* typing the entire new expression from scratch."
   ]
  },
  {
   "cell_type": "markdown",
   "metadata": {},
   "source": [
    "<a name='Exercise-D'></a>\n",
    "#### Exercise D: Putting this work into a file, and submitting for feedback\n",
    "\n",
    "Put your work so far into a Jupyter notebook.\n",
    "\n",
    "For Exercises A and B, put your verbal answers into Markdown cells in the notbook.\n",
    "\n",
    "For Exercise C, it is also worth adding some verbal explanation (again in a Markdown cell) along with the Python code and its output.\n",
    "\n",
    "Then submit that notebook file:\n",
    "- if using OAKS, submit it to the dropbox for Unit 0;\n",
    "- otherwise, copy it to our shared Google Drive folder."
   ]
  },
  {
   "cell_type": "markdown",
   "metadata": {},
   "source": [
    "## Reminder: The goal is mastery (not partial credit)\n",
    "\n",
    "I expect you to ask questions about how to do these tasks, but trying hands-on first is the best way to start;\n",
    "I will always give feedback and the opportunity to revise and perfect your work; the goal is working towards mastery of each topic."
   ]
  }
 ],
 "metadata": {
  "kernelspec": {
   "display_name": "Python 3",
   "language": "python",
   "name": "python3"
  },
  "language_info": {
   "codemirror_mode": {
    "name": "ipython",
    "version": 3
   },
   "file_extension": ".py",
   "mimetype": "text/x-python",
   "name": "python",
   "nbconvert_exporter": "python",
   "pygments_lexer": "ipython3",
   "version": "3.8.3"
  }
 },
 "nbformat": 4,
 "nbformat_minor": 4
}

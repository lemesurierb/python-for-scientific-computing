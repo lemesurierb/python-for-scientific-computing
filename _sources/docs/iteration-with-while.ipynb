{
 "cells": [
  {
   "cell_type": "markdown",
   "metadata": {},
   "source": [
    "# Iteration with `while`\n",
    "\n",
    "*Estimated time to complete:* one hour."
   ]
  },
  {
   "cell_type": "markdown",
   "metadata": {},
   "source": [
    "## Introduction\n",
    "\n",
    "The last fundamental tool for describing algorithms is *iteration* or \"looping\": tasks that repeat the same sequence of actions repeatedly, with possible variation like using different input values at each repetition.\n",
    "\n",
    "The section on [Iteration with `for`](iteration-with-for.html) covered the easier case where the number of iterations to be done is determined before we start;\n",
    "now we consider the case where we must decide \"on the fly\" whether the iteration is finished, by checking some conditions as part of each repetition; this is usualy done with `while` loops."
   ]
  },
  {
   "cell_type": "markdown",
   "metadata": {},
   "source": [
    "<a name=whileloops></a>\n",
    "## Repeating an initially unknown number of times, with `while` loops\n",
    "\n",
    "Often, calculating numerical approximate solutions follows a pattern of iterative improvement, like\n",
    "\n",
    "1. Get an initial approximation.\n",
    "2. Use the best current approximation to compute a new, hopefully better one.\n",
    "3. Check the accuracy of this new approximation.\n",
    "4. If the new approximation is good enough, stop — otherwise, repeat from step 2.\n",
    "\n",
    "For this, a `while` loop can be used.  Its general meaning is:\n",
    "\n",
    "    while \"some logical statement is True\":\n",
    "       repeat this\n",
    "       and this\n",
    "       and so on\n",
    "       when done with the last indented line, go back to the \"while\" line and check again\n",
    "    This less indented line is where we continue after the \"while\" iteration is finished. "
   ]
  },
  {
   "cell_type": "markdown",
   "metadata": {},
   "source": [
    "#### Example A: Computing cube roots, quickly\n",
    "\n",
    "We are now ready for illustrations that do something more mathematically substantial: computing cube roots using only a modest amount of basic arithmetic.\n",
    "For now this is just offered as an example of programming methods, and the rapid success might be mysterious, but is explained in a numerical methods course like Math 245.\n",
    "Also, the phrase \"backward error\" should be familiar to students of numerical methods.\n",
    "\n",
    "Note how the backward error allows us to check accuracy without relying on the fact that — in this easy case — we already know the answer.\n",
    "Change from 'a=8' to 'a=20' to see the advantage!"
   ]
  },
  {
   "cell_type": "code",
   "execution_count": 1,
   "metadata": {},
   "outputs": [],
   "source": [
    "# We are going to approximate the cube root of a:\n",
    "a = 8"
   ]
  },
  {
   "cell_type": "code",
   "execution_count": 2,
   "metadata": {},
   "outputs": [
    {
     "name": "stdout",
     "output_type": "stream",
     "text": [
      "The new approximation is    3.333333333333333, with backward error of 2.903704e+01\n",
      "The new approximation is    2.462222222222222, with backward error of 6.927316e+00\n",
      "The new approximation is    2.081341247671579, with backward error of 1.016332e+00\n",
      "The new approximation is    2.003137499141287, with backward error of 3.770908e-02\n",
      "The new approximation is    2.000004911675504, with backward error of 5.894025e-05\n",
      "The new approximation is    2.000000000012062, with backward error of 1.447429e-10\n",
      "Done!\n",
      "The cube root of 8 is approximately    2.000000000012062\n",
      "The backward error in this approximation is 1.45e-10\n"
     ]
    }
   ],
   "source": [
    "# A first very rough approximation:\n",
    "root = 1\n",
    "\n",
    "# I will tolerate an error of this much:\n",
    "error_tolerance = 1e-8\n",
    "# Aside to students in a numerical course: this is a _backward error_ specification.\n",
    "\n",
    "# The answer \"root\" should satisfy root**3 - a = 0, so check how close we are:\n",
    "while abs(root**3 - a) > error_tolerance:\n",
    "    root = (2*root + a/root**2)/3\n",
    "    print(f'The new approximation is {root:20.16g}, with backward error of {abs(root**3 - a):e}')\n",
    "print('Done!')\n",
    "print(f'The cube root of {a:g} is approximately {root:20.16g}')\n",
    "print(f'The backward error in this approximation is {abs(root**3 - a):.2e}')"
   ]
  },
  {
   "cell_type": "markdown",
   "metadata": {},
   "source": [
    "**Aside D:**  I have thrown in some more refinements of output format control, \":20.16g\", \":e\" and \":.2e\".\n",
    "If you are curious, you could try to work out what they do from these examples, or read up on this, for example in the [notes on formatted output](formatted-output-and-some-text-string-manipulation)\n",
    "But that is not essential, at least for now."
   ]
  },
  {
   "cell_type": "markdown",
   "metadata": {},
   "source": [
    "#### Example B: computing and printing the factorials less than N\n",
    "\n",
    "As a variant of [Exercise 5D](#Exercise-5D) above, if we want to compute the all factorials that are less than N, we do not know in advance how many there are, which is a problem with a`for` loop.\n",
    "\n",
    "Thus, in place of the `for` loop in Example F above, we can do this:"
   ]
  },
  {
   "cell_type": "code",
   "execution_count": 3,
   "metadata": {},
   "outputs": [],
   "source": [
    "N = 1000"
   ]
  },
  {
   "cell_type": "code",
   "execution_count": 4,
   "metadata": {},
   "outputs": [
    {
     "name": "stdout",
     "output_type": "stream",
     "text": [
      "0! = 1\n",
      "1! = 1\n",
      "2! = 2\n",
      "3! = 6\n",
      "4! = 24\n",
      "5! = 120\n",
      "6! = 720\n"
     ]
    }
   ],
   "source": [
    "\"\"\"\n",
    "Compute and print all factorials less than N\n",
    "\"\"\"\n",
    "i = 0\n",
    "i_factorial= 1\n",
    "print(f\"{i}! = {i_factorial}\")\n",
    "while i_factorial < N:\n",
    "    i += 1\n",
    "    i_factorial *= i\n",
    "    if i_factorial < N:  # We have to check again, in case the latest value overshoots\n",
    "        print(f\"{i}! = {i_factorial}\")"
   ]
  },
  {
   "cell_type": "markdown",
   "metadata": {},
   "source": [
    "If we want to store all the values, we cannot create an array of the correct length in advance, as was done in Example F.\n",
    "This is one place where Python *lists* have an advantage over Numpy *arrays*; lists can be extended incrementally.\n",
    "Also, the way we do this introduces a new kind of Python programming tool: a *method* for transforming an *object*."
   ]
  },
  {
   "cell_type": "markdown",
   "metadata": {},
   "source": [
    "### Appending to lists, and our first use of Python *methods*\n",
    "\n",
    "In an exercise like the above, it might be nice to accumulate a list of all the results, but the number of them is not known in advance, so the array creation strategy seen in Example F cannot be used.\n",
    "\n",
    "This is one place where Python lists have an advantage over Numpy arrays; lists can be extended incrementally.\n",
    "Also, the way we do this introduces a new kind of Python programming tool: a *method* for transforming an object.\n",
    "The general syntax for methods is\n",
    "\n",
    "    object.method(...)\n",
    "which has the effect of transforming the object, and can take a tuple of arguments, or none.\n",
    "Thus, it is sort of like\n",
    "\n",
    "    object = method(object, ...)\n",
    "but for one thing, avoids repetition of the object name."
   ]
  },
  {
   "cell_type": "markdown",
   "metadata": {},
   "source": [
    "**Aside E: A taste of object-oriented programming.** This is our first encounter with the notation and concepts of *object-oriented programming*, which is so important in languages like **Java** and **C++**.\n",
    "A *method* is a special kind of function [here `append()`] which does things like transforming an *object* [here the list `factorials`].\n",
    "\n",
    "This course will use only little bits of this object-oriented programming style, but Python has a full collection of tools for it, which CSCI students in particular will probably appreciate."
   ]
  },
  {
   "cell_type": "markdown",
   "metadata": {},
   "source": [
    "#### Example C: creating and appending to a list\n",
    "\n",
    "We start with an empty list and then append values with the method `.append()`."
   ]
  },
  {
   "cell_type": "code",
   "execution_count": 5,
   "metadata": {},
   "outputs": [
    {
     "name": "stdout",
     "output_type": "stream",
     "text": [
      "[]\n",
      "[2]\n",
      "[2, 3]\n"
     ]
    }
   ],
   "source": [
    "listOfPrimes = []  # An empty list\n",
    "print(listOfPrimes)\n",
    "listOfPrimes.append(2)\n",
    "print(listOfPrimes)\n",
    "listOfPrimes.append(3)\n",
    "print(listOfPrimes)"
   ]
  },
  {
   "cell_type": "markdown",
   "metadata": {},
   "source": [
    "#### Example D: Storing a list of the values of the factorials the factorials less than N\n",
    "\n",
    "Now we use this new list manipulation tool to create the desired list of factorial values:\n",
    "creating a list of all values $i!$ with $i! < N$."
   ]
  },
  {
   "cell_type": "code",
   "execution_count": 6,
   "metadata": {},
   "outputs": [
    {
     "name": "stdout",
     "output_type": "stream",
     "text": [
      "0! = 1\n",
      "1! = 1\n",
      "2! = 2\n",
      "3! = 6\n",
      "4! = 24\n",
      "5! = 120\n",
      "6! = 720\n",
      "\n",
      "The list of all factorials less that 1000 is [1, 1, 2, 6, 24, 120, 720]\n"
     ]
    }
   ],
   "source": [
    "\"\"\"\n",
    "Collecting a Python list of all the factorials less than N.\n",
    "\"\"\"\n",
    "factorials = []  # Start with an empty list\n",
    "i = 0\n",
    "i_factorial = 1\n",
    "print(f\"{i}! = {i_factorial}\")\n",
    "factorials.append(i_factorial)\n",
    "while i_factorial < N:\n",
    "    i += 1\n",
    "    i_factorial *= i\n",
    "    if i_factorial < N:  # We have to check again, in case the latest value overshoots\n",
    "        print(f\"{i}! = {i_factorial}\")\n",
    "        factorials.append(i_factorial)\n",
    "print()\n",
    "print(f\"The list of all factorials less that {N} is {factorials}\")"
   ]
  },
  {
   "cell_type": "markdown",
   "metadata": {},
   "source": [
    "**Note:** Of course, the list could then be converted to an array with\n",
    "\n",
    "    factorials = numpy.array(factorials)\n",
    "if having an array is useful later."
   ]
  },
  {
   "cell_type": "markdown",
   "metadata": {},
   "source": [
    "<a name=Exercise-A></a>\n",
    "#### Exercise A: Fibonacci numbers less than $N$\n",
    "\n",
    "Write a Python function that inputs a natural number $N$, and with the help of a `while` loop, computes and prints in turn each Fibonacci number less than or equal to $N$.\n",
    "\n",
    "For now the values are only printed, and so one does not need to store them all; only a couple of the most recent ones.\n",
    "\n",
    "Note well; this is all $F_i \\leq N$, not the Fibonacci numbers up to $F_N$.\n",
    "Thus we do not know how many there are initially: this is the scenario where `while` loops are more natural than `for` loops.\n",
    "\n",
    "**Written planning.** Again, start by working out and writing down your mathematical plan, and check it with me before creating any Python code."
   ]
  },
  {
   "cell_type": "markdown",
   "metadata": {},
   "source": [
    "<a name=Exercise-B></a>\n",
    "#### Exercise B: all output via a `return` statement; no `print` to screen in the function\n",
    "\n",
    "Modify your function from the previous exercise to cumulate the needed Fibonacci numbers in a Python list, and `return` this list.\n",
    "This time, your function itself should not `print` anything: instead, your file will display the results with a single `print` function after invoking the function.\n",
    "\n",
    "**NOTE:** This approach of separating the **calculations** in a function from subsequent **display of results** is the main way that we will arrange things from now on."
   ]
  }
 ],
 "metadata": {
  "kernelspec": {
   "display_name": "Python 3",
   "language": "python",
   "name": "python3"
  },
  "language_info": {
   "codemirror_mode": {
    "name": "ipython",
    "version": 3
   },
   "file_extension": ".py",
   "mimetype": "text/x-python",
   "name": "python",
   "nbconvert_exporter": "python",
   "pygments_lexer": "ipython3",
   "version": "3.8.3"
  }
 },
 "nbformat": 4,
 "nbformat_minor": 4
}

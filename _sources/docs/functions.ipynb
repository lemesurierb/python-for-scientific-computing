{
 "cells": [
  {
   "cell_type": "markdown",
   "metadata": {},
   "source": [
    "# Defining and Using Python Functions\n",
    "\n",
    "*Estimated time to complete:* one to two hours."
   ]
  },
  {
   "cell_type": "markdown",
   "metadata": {},
   "source": [
    "## Introduction\n",
    "\n",
    "Our main objective is to learn how to define our own Python *functions,* and see how these can help us to deal with sub-tasks done repeatedly (with variation) within a larger task.\n",
    "\n",
    "Typically, core mathematical tasks (like evaluating a function $f(x)$ or solving an equation $f(x) = 0$) will be done within Python functions designed to communicate with other parts of the Python code, rather than getting their input interactively or returning results by displaying them on the screen."
   ]
  },
  {
   "cell_type": "markdown",
   "metadata": {},
   "source": [
    "In this course, the notebook approach is prioritized;\n",
    "that makes it easier to produce a single document that combines text and mathematical information, Python code, and computed results, making for a more \"literate\", understandable presentation."
   ]
  },
  {
   "cell_type": "markdown",
   "metadata": {},
   "source": [
    "**Example A. A very simple function for computing the mean of two numbers**\n",
    "\n",
    "To illustrate the syntax, let's start with a very simple function: computing the mean of two numbers."
   ]
  },
  {
   "cell_type": "code",
   "execution_count": 1,
   "metadata": {},
   "outputs": [],
   "source": [
    "def mean(a, b):\n",
    "    mean_of_a_and_b = (a + b)/2\n",
    "    return mean_of_a_and_b"
   ]
  },
  {
   "cell_type": "markdown",
   "metadata": {},
   "source": [
    "This can be used as follows:"
   ]
  },
  {
   "cell_type": "code",
   "execution_count": 2,
   "metadata": {},
   "outputs": [
    {
     "name": "stdout",
     "output_type": "stream",
     "text": [
      "The mean of 2 and 6 is 4.0\n"
     ]
    }
   ],
   "source": [
    "mean_of_2_and_6 = mean(2, 6)\n",
    "print('The mean of 2 and 6 is', mean_of_2_and_6)"
   ]
  },
  {
   "cell_type": "markdown",
   "metadata": {},
   "source": [
    "### Notes\n",
    "\n",
    "1. The definition of a function begins with the command <code>def</code>\n",
    "\n",
    "2. This is followed by:\n",
    "    - a name for the function,\n",
    "    - a parenthesized, comma-seperated list of variable names, which are called the input *arguments*,\n",
    "    - and finally a **colon**, which as always introduces an indented list or *block* of statements; in this case the statements that describe the actions performed by the function.\n",
    "    - Indentation is done with **four spaces**. (Tabs are also legal but advised against, so please forget that I mentioned them.)\n",
    "    - The end of the block of code for the function is indicated simply by the end of the indentation; there is no `end` line as in some other programming languages. The last line of the definiton is often a `return` statement, but there can also be multiple `return` statements at various places in the code block, or no `return` at all.\n",
    "\n",
    "3. When using the function, it is given a list of expressions (variable names or values or more elaborate formulas) and the values of these are *copied* to the corresponding internal variables given by the list of input arguments mentioned in the function's `def` line.\n",
    "(However, with lists and arrays, the idea of *copying* will require clarification!)\n",
    "\n",
    "4. As soon as the function gets to a statement beginning with `return`, it evaluates the expression on that line, and ends, sending back this as the value of the function.\n",
    "\n",
    "5. The name used for a variable into which the value of a function is assigned (here, `mean_of_2_and_6`) does not have to be the same as the name used internally in the `return` statement (here, `mean_of_a_and_b`).\n",
    "\n",
    "In general, what follows `return` is an expression (formula) that is evaluated to get the value that is then sent back; listing the name of one or more variables is just one simple way to do this. For example, the above function `mean` could instead be defined with\n",
    "\n",
    "    def mean(a, b):\n",
    "        return (a + b)/2"
   ]
  },
  {
   "cell_type": "markdown",
   "metadata": {},
   "source": [
    "Also, multiple values can be given in a `return` line; they are then output as a [tuple](python-variables-lists-tuples-numpy-arrays.html#Tuples)"
   ]
  },
  {
   "cell_type": "code",
   "execution_count": 3,
   "metadata": {},
   "outputs": [],
   "source": [
    "def mean_and_difference(a, b):\n",
    "    return (a + b)/2, b - a"
   ]
  },
  {
   "cell_type": "code",
   "execution_count": 4,
   "metadata": {},
   "outputs": [
    {
     "data": {
      "text/plain": [
       "(3.5, 3)"
      ]
     },
     "execution_count": 4,
     "metadata": {},
     "output_type": "execute_result"
    }
   ],
   "source": [
    "mean_and_difference(2, 5)"
   ]
  },
  {
   "cell_type": "markdown",
   "metadata": {},
   "source": [
    "## Variables \"created\" inside a function definition are local to it\n",
    "\n",
    "A more subtle point: all the variables appearing in the function's `def` line (here `a` and `b`) and any created inside with an assignment statement (here just `mean_of_a_and_b`) are purely *local* to the function; they do not exist outside the function.  For that reason, when you call a function, you have to do something with the return value, like assign it to a variable (as done here with `mean_of_a_and_b`) or use it as input to another function (see below)."
   ]
  },
  {
   "cell_type": "markdown",
   "metadata": {},
   "source": [
    "**Aside:** there is a way that a variable can be shared between a function and the rest of the file in which the function definition appears; so-called *global variables*, using `global` statements.\n",
    "However, it is generally good practice to avoid them as much as possible, so I will do so in this course."
   ]
  },
  {
   "cell_type": "markdown",
   "metadata": {},
   "source": [
    "To illustrate this point about local variables, let us look for the values of variables `a` and `mean_of_a_and_b` in the code after the function is called:"
   ]
  },
  {
   "cell_type": "code",
   "execution_count": 5,
   "metadata": {},
   "outputs": [],
   "source": [
    "mean310 = mean(3, 10)"
   ]
  },
  {
   "cell_type": "code",
   "execution_count": 6,
   "metadata": {},
   "outputs": [
    {
     "name": "stdout",
     "output_type": "stream",
     "text": [
      "After using function mean:\n"
     ]
    },
    {
     "ename": "NameError",
     "evalue": "name 'a' is not defined",
     "output_type": "error",
     "traceback": [
      "\u001b[0;31m---------------------------------------------------------------------------\u001b[0m",
      "\u001b[0;31mNameError\u001b[0m                                 Traceback (most recent call last)",
      "\u001b[0;32m<ipython-input-6-d00dfc4a617e>\u001b[0m in \u001b[0;36m<module>\u001b[0;34m\u001b[0m\n\u001b[1;32m      1\u001b[0m \u001b[0mprint\u001b[0m\u001b[0;34m(\u001b[0m\u001b[0;34m'After using function mean:'\u001b[0m\u001b[0;34m)\u001b[0m\u001b[0;34m\u001b[0m\u001b[0;34m\u001b[0m\u001b[0m\n\u001b[0;32m----> 2\u001b[0;31m \u001b[0mprint\u001b[0m\u001b[0;34m(\u001b[0m\u001b[0;34mf'a = {a}'\u001b[0m\u001b[0;34m)\u001b[0m\u001b[0;34m\u001b[0m\u001b[0;34m\u001b[0m\u001b[0m\n\u001b[0m",
      "\u001b[0;31mNameError\u001b[0m: name 'a' is not defined"
     ]
    }
   ],
   "source": [
    "print('After using function mean:')\n",
    "print(f'a = {a}')"
   ]
  },
  {
   "cell_type": "code",
   "execution_count": 7,
   "metadata": {},
   "outputs": [
    {
     "ename": "NameError",
     "evalue": "name 'mean_of_a_and_b' is not defined",
     "output_type": "error",
     "traceback": [
      "\u001b[0;31m---------------------------------------------------------------------------\u001b[0m",
      "\u001b[0;31mNameError\u001b[0m                                 Traceback (most recent call last)",
      "\u001b[0;32m<ipython-input-7-9555f19d8b66>\u001b[0m in \u001b[0;36m<module>\u001b[0;34m\u001b[0m\n\u001b[0;32m----> 1\u001b[0;31m \u001b[0mprint\u001b[0m\u001b[0;34m(\u001b[0m\u001b[0;34m'mean_of_a_and_b ='\u001b[0m\u001b[0;34m,\u001b[0m \u001b[0mmean_of_a_and_b\u001b[0m\u001b[0;34m)\u001b[0m\u001b[0;34m\u001b[0m\u001b[0;34m\u001b[0m\u001b[0m\n\u001b[0m",
      "\u001b[0;31mNameError\u001b[0m: name 'mean_of_a_and_b' is not defined"
     ]
    }
   ],
   "source": [
    "print('mean_of_a_and_b =', mean_of_a_and_b)"
   ]
  },
  {
   "cell_type": "code",
   "execution_count": 11,
   "metadata": {},
   "outputs": [
    {
     "name": "stdout",
     "output_type": "stream",
     "text": [
      "mean310 = 6.5\n"
     ]
    }
   ],
   "source": [
    "print(f'mean310 = {mean310}')"
   ]
  },
  {
   "cell_type": "markdown",
   "metadata": {},
   "source": [
    "The same name can even be used locally in a function and also outside it in the same file; they are different objects with independent values:"
   ]
  },
  {
   "cell_type": "code",
   "execution_count": 12,
   "metadata": {},
   "outputs": [
    {
     "name": "stdout",
     "output_type": "stream",
     "text": [
      "Before calling function \"double\", a = 1\n",
      "At the start of function \"double\", a = 1\n",
      "A bit later in that function, a = 2\n",
      "After calling function \"double\", b = 2, but a = 1 again.\n"
     ]
    }
   ],
   "source": [
    "def double(a):\n",
    "    print(f'At the start of function \"double\", a = {a}')\n",
    "    a = 2 * a\n",
    "    print(f'A bit later in that function, a = {a}')\n",
    "    return a\n",
    "a = 1\n",
    "print(f'Before calling function \"double\", a = {a}')\n",
    "b = double(a)\n",
    "print(f'After calling function \"double\", b = {b}, but a = {a} again.')"
   ]
  },
  {
   "cell_type": "markdown",
   "metadata": {},
   "source": [
    "**Warning about keeping indentation correct:** The line `a = 1` is after the function definition, not part of it, as indicated by the reduced indentation; however Python code editing tools like JuperLab and Spyder will default to indenting each new line as much as the previous one when you end a line by typing \"return\".\n",
    "Thus, when typing in a function `def`, it is important to manually reduce the indentation (\"dedent\") at the end of the definition.\n",
    "The same is true for all statements that end with a colon and so control a following block of code, like `if`, `else`, `elif` and `for`."
   ]
  },
  {
   "cell_type": "markdown",
   "metadata": {},
   "source": [
    "**Example B. More on multiple output values, with tuples**\n",
    "\n",
    "Often, a function computes and returns several quantities; one example is a function version of our quadratic equation solver, which takes three input parameters and computes a pair of roots.\n",
    "Here is a very basic function for this, ignoring for now possible problems like division by zero:"
   ]
  },
  {
   "cell_type": "code",
   "execution_count": 13,
   "metadata": {},
   "outputs": [],
   "source": [
    "from math import sqrt"
   ]
  },
  {
   "cell_type": "markdown",
   "metadata": {},
   "source": [
    "<a name=solve_quadratic></a>"
   ]
  },
  {
   "cell_type": "code",
   "execution_count": 14,
   "metadata": {},
   "outputs": [],
   "source": [
    "def solve_quadratic(c_2, c_1, c_0):\n",
    "    '''\n",
    "    Note: c_i is the coefficient of x^i\n",
    "    '''\n",
    "    discriminant = c_1**2 - 4 * c_0 * c_2\n",
    "    root0 = (-c_1 + sqrt(discriminant))/(2 * c_2)\n",
    "    root1 = (-c_1 - sqrt(discriminant))/(2 * c_2)\n",
    "    return root0, root1"
   ]
  },
  {
   "cell_type": "markdown",
   "metadata": {},
   "source": [
    "Now what is returned is a [tuple](python-variables-lists-tuples-numpy-arrays.html#Tuples), and it can be stored into a single variable:"
   ]
  },
  {
   "cell_type": "code",
   "execution_count": 15,
   "metadata": {},
   "outputs": [
    {
     "name": "stdout",
     "output_type": "stream",
     "text": [
      "Variable \"roots\" has value (4.0, 1.0)\n",
      "One root is 4.0 and the other is 1.0\n"
     ]
    }
   ],
   "source": [
    "roots = solve_quadratic(2, -10, 8)\n",
    "print(f'Variable \"roots\" has value {roots}')\n",
    "print(f'One root is {roots[0]} and the other is {roots[1]}')"
   ]
  },
  {
   "cell_type": "markdown",
   "metadata": {},
   "source": [
    "However, it is often convenient to store each returned value into a separate variable, using tuple notation at left in the assignment statement:"
   ]
  },
  {
   "cell_type": "code",
   "execution_count": 16,
   "metadata": {},
   "outputs": [
    {
     "name": "stdout",
     "output_type": "stream",
     "text": [
      "One root is 4.0 and the other is 1.0\n"
     ]
    }
   ],
   "source": [
    "(rootA, rootB) = solve_quadratic(2, -10, 8)\n",
    "print(f'One root is {rootA} and the other is {rootB}')"
   ]
  },
  {
   "cell_type": "markdown",
   "metadata": {},
   "source": [
    "### Note: With tuples, parentheses are optional\n",
    "\n",
    "When tuples were introduced in the section on [Python variables](python-variables-lists-tuples-numpy-arrays.ipynb), they were described as \"a parenthesized list of values separated by commas\", but note that above, no parentheses were used: the `return` line was\n",
    "\n",
    "    return root0, root1\n",
    "not\n",
    "\n",
    "    return (root0, root1)\n",
    "though the latter version would also work.\n",
    "\n",
    "In fact, you can always omit the parentheses when specifying a tuple, just giving a comma-separated list of values, even on the left side of an assignment statement.\n",
    "Thus, the above example could also be done like this:"
   ]
  },
  {
   "cell_type": "code",
   "execution_count": 17,
   "metadata": {},
   "outputs": [
    {
     "name": "stdout",
     "output_type": "stream",
     "text": [
      "One root is 4.0 and the other is 1.0\n"
     ]
    }
   ],
   "source": [
    "rootA, rootB = solve_quadratic(2, -10, 8)\n",
    "print(f'One root is {rootA} and the other is {rootB}')"
   ]
  },
  {
   "cell_type": "markdown",
   "metadata": {},
   "source": [
    "## Single-member tuples: not an oxymoron\n",
    "\n",
    "Tuples can have a single member, but then to make it clear to Python that it is a tuple, there must always be a comma after that sole element.\n",
    "Compare:"
   ]
  },
  {
   "cell_type": "code",
   "execution_count": 18,
   "metadata": {},
   "outputs": [
    {
     "name": "stdout",
     "output_type": "stream",
     "text": [
      "(1,)\n"
     ]
    }
   ],
   "source": [
    "tuple_a = (1,)\n",
    "print(tuple_a)"
   ]
  },
  {
   "cell_type": "code",
   "execution_count": 19,
   "metadata": {},
   "outputs": [
    {
     "name": "stdout",
     "output_type": "stream",
     "text": [
      "(2,)\n"
     ]
    }
   ],
   "source": [
    "tuple_b = 2,\n",
    "print(tuple_b)"
   ]
  },
  {
   "cell_type": "code",
   "execution_count": 20,
   "metadata": {},
   "outputs": [
    {
     "name": "stdout",
     "output_type": "stream",
     "text": [
      "3\n"
     ]
    }
   ],
   "source": [
    "not_a_tuple_c = (3)\n",
    "print(not_a_tuple_c)"
   ]
  },
  {
   "cell_type": "markdown",
   "metadata": {},
   "source": [
    "## Input argument lists are also tuples\n",
    "\n",
    "You can also think of the collection of input arguments to a function as a tuple.\n",
    "This works nicely for composition of functions: the output tuple from one function is passed as the input tuple for the next, as we will see soon.\n",
    "\n",
    "The input to and output from functions is probably the main place that we will use tuples in this course.\n",
    "\n",
    "The ability to store the collection of output values from a function in a single tuple can also be convenient when you wish to store that collection for later use."
   ]
  },
  {
   "cell_type": "markdown",
   "metadata": {},
   "source": [
    "Here I illustrate the strategy of dividing a task into several smaller, simpler pieces, each of which can then be reused independently.\n",
    "Step 1 is to compute the roots; step 2 is to print them, sorted into increasing order."
   ]
  },
  {
   "cell_type": "code",
   "execution_count": 21,
   "metadata": {},
   "outputs": [],
   "source": [
    "def printtwonumbersinorder(numbers):\n",
    "    '''\n",
    "    Print two numbers in increasing order.\n",
    "    Warning: this assumes real input values,\n",
    "    and is not very stylish when the two numbers are equal.\n",
    "    '''\n",
    "    if numbers[0] <= numbers[1]:\n",
    "        # Easy; they are already in order\n",
    "        print(f'The results, in order, are {numbers[0]:g} and {numbers[1]:g}')\n",
    "    else:\n",
    "        # swap them:\n",
    "        print(f'The results, in order, are {numbers[1]:g} and {numbers[0]:g}')"
   ]
  },
  {
   "cell_type": "code",
   "execution_count": 22,
   "metadata": {},
   "outputs": [
    {
     "name": "stdout",
     "output_type": "stream",
     "text": [
      "The unsorted tuple of roots is (4.0, 1.0)\n",
      "The results, in order, are 1 and 4\n"
     ]
    }
   ],
   "source": [
    "bothroots = solve_quadratic(2, -10, 8)\n",
    "print('The unsorted tuple of roots is', bothroots)\n",
    "printtwonumbersinorder(bothroots)"
   ]
  },
  {
   "cell_type": "markdown",
   "metadata": {},
   "source": [
    "We can compose functions, and so do these two steps in one:"
   ]
  },
  {
   "cell_type": "code",
   "execution_count": 23,
   "metadata": {},
   "outputs": [
    {
     "name": "stdout",
     "output_type": "stream",
     "text": [
      "The results, in order, are -6 and 1\n"
     ]
    }
   ],
   "source": [
    "printtwonumbersinorder(solve_quadratic(1, 5, -6))"
   ]
  },
  {
   "cell_type": "markdown",
   "metadata": {},
   "source": [
    "**Aside: documenting functions with triple quoted comments, and `help`**\n",
    "\n",
    "Note that the code block for function `printtwonumbersinorder` starts with a comment surrounded by a triple of quote characters at each end, and this sort of comment can continue over multiple lines.\n",
    "\n",
    "In addition to making it easier to have long comments, this sort of comment provides some *self-documentation* for the function — not just in the code for the function, but also in the Python `help` system:"
   ]
  },
  {
   "cell_type": "code",
   "execution_count": 24,
   "metadata": {},
   "outputs": [
    {
     "name": "stdout",
     "output_type": "stream",
     "text": [
      "Help on function printtwonumbersinorder in module __main__:\n",
      "\n",
      "printtwonumbersinorder(numbers)\n",
      "    Print two numbers in increasing order.\n",
      "    Warning: this assumes real input values,\n",
      "    and is not very stylish when the two numbers are equal.\n",
      "\n"
     ]
    }
   ],
   "source": [
    "help(printtwonumbersinorder)"
   ]
  },
  {
   "cell_type": "markdown",
   "metadata": {},
   "source": [
    "About the reference to `module __main__`: that is the standard name for code that is not explicitly part of any other module, such as anything defined in the current file rathetr than imported from elsewhere.  Compare to what we get when a function comes from another module:"
   ]
  },
  {
   "cell_type": "code",
   "execution_count": 25,
   "metadata": {},
   "outputs": [
    {
     "name": "stdout",
     "output_type": "stream",
     "text": [
      "Help on built-in function sqrt in module math:\n",
      "\n",
      "sqrt(x, /)\n",
      "    Return the square root of x.\n",
      "\n"
     ]
    }
   ],
   "source": [
    "help(sqrt)"
   ]
  },
  {
   "cell_type": "markdown",
   "metadata": {},
   "source": [
    "As you might expect, all objects provided by standard modules like `math` and `numpy` have some documentation provided; `help` is useful in cases like this where you cannot see the Python code that defines the function."
   ]
  },
  {
   "cell_type": "markdown",
   "metadata": {},
   "source": [
    "When a function `def` lacks such a *self-documentation* comment, `help` still tells us something; the syntax for using it, and where it come from:"
   ]
  },
  {
   "cell_type": "code",
   "execution_count": 26,
   "metadata": {},
   "outputs": [
    {
     "name": "stdout",
     "output_type": "stream",
     "text": [
      "Help on function mean in module __main__:\n",
      "\n",
      "mean(a, b)\n",
      "\n"
     ]
    }
   ],
   "source": [
    "help(mean)"
   ]
  },
  {
   "cell_type": "markdown",
   "metadata": {},
   "source": [
    "<a name=Exercise-A></a>\n",
    "### Exercise A. A robust function for solving quadratics\n",
    "\n",
    "Refine the above function `solve_quadratic` for solving quadratics, and make it **robust**; handling all possible input triples of real numbers in a \"reasonable\" way.\n",
    "(If you have done Exercise C of the section on [decision making](decisions-with-if-else-elif.ipynb), this is essentially just integrating that code into a function.)\n",
    "\n",
    "Not all choices of those coefficients will give two distinct real roots, so work out all the possibilities, and try to handle them all.\n",
    "\n",
    "1. Its input arguments are three real (floating point) numbers, giving the coefficients $a$, $b$, and $c$ of the quadratic equation $ax^2 + bx + c = 0$.\n",
    "\n",
    "2. It always **returns** a result (usually a pair of numerical values for the roots) for any \"genuine\" quadratic equation, meaning one with $a \\ne 0$.\n",
    "\n",
    "3. If the quadratic has real roots, these are output with a `return` statement — no `print` commands in the function.\n",
    "\n",
    "4. In cases where it is not a genuine quadratic, or there are no real roots, return the special value `None`.\n",
    "\n",
    "5. As an **optional** further refinement: in the \"prohibited\" case $a = 0$, have it produce a custom error message, by \"raising an exception\". We will learn more about handling \"exceptional\" situations later, but for now you could just use the command:\n",
    "```\n",
    "raise ZeroDivisionError(\"The coefficient 'a' of x^2 cannot have the value zero.\")\n",
    "```\n",
    "\n",
    "or\n",
    "```\n",
    "raise ValueError(\"The coefficient 'a' of x^2 cannot have the value zero.\")\n",
    "```\n",
    "\n",
    "Ultimately put this in a cell in a Jupyter notebook (suggested name: \"Unit03.ipynb\");\n",
    "if you prefer to develop it with Spyder, I suggest the filename \"quadratic_solver_c.py\""
   ]
  },
  {
   "cell_type": "markdown",
   "metadata": {},
   "source": [
    "### Testing\n",
    "\n",
    "Test and demonstrate this function with a list of test cases, including:\n",
    "\n",
    "1. $2x^2 - 10x + 8 = 0$\n",
    "2. $x^2 -2x + 1 = 0$\n",
    "3. $x^2 + 2 = 0$\n",
    "4. $x^2 + 6x + 25 = 0$\n",
    "5. $4x - 10 = 0$"
   ]
  },
  {
   "cell_type": "markdown",
   "metadata": {},
   "source": [
    "### Notebook organization\n",
    "\n",
    "To start developing good notebook organizational practice:\n",
    "\n",
    "- As always, start with a [title cell](#top) giving a title, your name and the date.\n",
    "- Follow this by an [introduction cell](#Introduction) giving a brief description of what the notebook does — see above; follow the links here!\n",
    "- Put any `import` statements straight after the introduction, before any other Python code.\n",
    "- Define the function in one cell (more generally, define each function in its own cell).\n",
    "- Follow the function definition[s] with the test cases, each in its own cell.\n",
    "- If anything noteworthy arises in a test case, add comments on this in a Markdown after that test case cell."
   ]
  },
  {
   "cell_type": "markdown",
   "metadata": {},
   "source": [
    "## Keyword arguments: specifying input values by name\n",
    "\n",
    "Sometimes a function has numerous input arguments, and then it might be hard to remember what order they go in.\n",
    "\n",
    "Even with just a few arguments, there can be room for confusion;\n",
    "for example, in the above function [`solve_quadratic`](#solve_quadratic)\n",
    "do we give the coefficients in order `c_2, c_1, c_0` as for $c_2 x^2 + c_1 x + c_0 = 0$, or in order `c_0, c_1, c_2` as for $c_0 + c_1 x + c_2 x^2 = 0$?\n",
    "\n",
    "To improve readability and help avoid errors, Python has a nice optional feature of specifying input arguments *by name*; they are then called *keyword arguments*,m adn can be given in any order.\n",
    "\n",
    "For example:"
   ]
  },
  {
   "cell_type": "code",
   "execution_count": 27,
   "metadata": {},
   "outputs": [
    {
     "name": "stdout",
     "output_type": "stream",
     "text": [
      "The results, in order, are -5 and 2\n"
     ]
    }
   ],
   "source": [
    "moreroots = solve_quadratic(c_1=3, c_2=1, c_0=-10)\n",
    "printtwonumbersinorder(moreroots)"
   ]
  },
  {
   "cell_type": "markdown",
   "metadata": {},
   "source": [
    "When you are specifying the parameters by name, there is no need to have them in any particular order.\n",
    "For example, if you like to write polynomials \"from the bottom up\", as with $-10 + 3x + x^2$, which is $c_0 + c_1 x + c_2 x^2$, you could do this:"
   ]
  },
  {
   "cell_type": "code",
   "execution_count": 28,
   "metadata": {},
   "outputs": [
    {
     "name": "stdout",
     "output_type": "stream",
     "text": [
      "The results, in order, are -5 and 2\n"
     ]
    }
   ],
   "source": [
    "sameroots = solve_quadratic(c_0=-10, c_1=3, c_2=1)\n",
    "printtwonumbersinorder(sameroots)"
   ]
  },
  {
   "cell_type": "markdown",
   "metadata": {},
   "source": [
    "## Functions as input to other functions\n",
    "\n",
    "In mathematical computing, we often wish to define a (Python) function that does something with a (mathematical) function.  A simple example is implementing the basic difference quotient approximation of the derivative\n",
    "\n",
    "$$f'(x) = Df(x) \\approx \\frac{f(x+h) - f(x)}{h}$$\n",
    "\n",
    "with a function `Df_approximation`, whose input will include the function $f$ as well as the two numbers $x$ and $h$.\n",
    "\n",
    "Python makes this fairly easy, since Python functions, like numbers, can be the values of variables, and given as input to other functions in the same way: in fact the statement\n",
    "```\n",
    "def f(...): ...\n",
    "```\n",
    "creates variable `f` with this function as its value.\n",
    "\n",
    "So here is a suitable definition:"
   ]
  },
  {
   "cell_type": "code",
   "execution_count": 29,
   "metadata": {},
   "outputs": [],
   "source": [
    "def Df_approximation(f, x, h):\n",
    "    return (f(x+h) - f(x))/h"
   ]
  },
  {
   "cell_type": "markdown",
   "metadata": {},
   "source": [
    "and one way to use it is as follows:"
   ]
  },
  {
   "cell_type": "code",
   "execution_count": 30,
   "metadata": {},
   "outputs": [
    {
     "name": "stdout",
     "output_type": "stream",
     "text": [
      "Df(1) is approximately -5.999800000004996\n"
     ]
    }
   ],
   "source": [
    "def p(x):\n",
    "    return 2*x**2 - 10*x + 8\n",
    "x0 = 1\n",
    "h = 1e-4\n",
    "\n",
    "Df_x0_h = Df_approximation(p, x0, h)\n",
    "print(f'Df({x0}) is approximately {Df_x0_h}')"
   ]
  },
  {
   "cell_type": "markdown",
   "metadata": {},
   "source": [
    "A bit more about keyword arguments: they csn be mixed wiht positonal arguments, but once an argument is given in keyword forms all later ones must be also.\n",
    "Thus it works to do this:"
   ]
  },
  {
   "cell_type": "code",
   "execution_count": 31,
   "metadata": {},
   "outputs": [
    {
     "name": "stdout",
     "output_type": "stream",
     "text": [
      "Df(1) is approximately -5.99999799888451\n"
     ]
    }
   ],
   "source": [
    "Dfxh = Df_approximation(p, x=x0, h=1e-6)\n",
    "print(f'Df({x0}) is approximately {Dfxh}')"
   ]
  },
  {
   "cell_type": "markdown",
   "metadata": {},
   "source": [
    "but the following fails:"
   ]
  },
  {
   "cell_type": "code",
   "execution_count": 32,
   "metadata": {},
   "outputs": [
    {
     "ename": "SyntaxError",
     "evalue": "positional argument follows keyword argument (<ipython-input-32-b7c7c80a79b9>, line 1)",
     "output_type": "error",
     "traceback": [
      "\u001b[0;36m  File \u001b[0;32m\"<ipython-input-32-b7c7c80a79b9>\"\u001b[0;36m, line \u001b[0;32m1\u001b[0m\n\u001b[0;31m    Dfxh = Df_approximation(p, x=2, 0.000001)\u001b[0m\n\u001b[0m                                    ^\u001b[0m\n\u001b[0;31mSyntaxError\u001b[0m\u001b[0;31m:\u001b[0m positional argument follows keyword argument\n"
     ]
    }
   ],
   "source": [
    "Dfxh = Df_approximation(p, x=2, 0.000001)\n",
    "print(f'Df(2) is approximately {Dfxh}')"
   ]
  },
  {
   "cell_type": "markdown",
   "metadata": {},
   "source": [
    "## Optional input arguments and default values\n",
    "\n",
    "Sometimes it makes sense for a function to have default values for arguments, so that not all argument values need to be specified.\n",
    "For example, the value $h= 10^{-8}$ is in some sense close to \"ideal\", so let us make that the default, by giving `h` a \"suggested\" value as part of the function's (new, improved) definition:\n",
    "<a name=line31></a>"
   ]
  },
  {
   "cell_type": "code",
   "execution_count": 33,
   "metadata": {},
   "outputs": [],
   "source": [
    "def Df_approximation(f, x, h=1e-8):\n",
    "    return (f(x+h) - f(x))/h"
   ]
  },
  {
   "cell_type": "markdown",
   "metadata": {},
   "source": [
    "The value for input argument <code>h</code> can now optionally be omitted when the function is used, getting the same result as before:"
   ]
  },
  {
   "cell_type": "code",
   "execution_count": 34,
   "metadata": {},
   "outputs": [
    {
     "name": "stdout",
     "output_type": "stream",
     "text": [
      "Df(1) is approximately -5.999999963535174\n"
     ]
    }
   ],
   "source": [
    "Df_x0_h = Df_approximation(p, x0)\n",
    "print(f'Df({x0}) is approximately {Df_x0_h}')"
   ]
  },
  {
   "cell_type": "markdown",
   "metadata": {},
   "source": [
    "or we can specify a value when we want to use a different one:"
   ]
  },
  {
   "cell_type": "code",
   "execution_count": 35,
   "metadata": {},
   "outputs": [
    {
     "name": "stdout",
     "output_type": "stream",
     "text": [
      "Using h=0.01, Df(1) is approximately -5.979999999999919\n"
     ]
    }
   ],
   "source": [
    "big_h = 0.01\n",
    "Df_x0_h = Df_approximation(p, x0, big_h)\n",
    "print(f'Using h={big_h}, Df({x0}) is approximately {Df_x0_h}')"
   ]
  },
  {
   "cell_type": "markdown",
   "metadata": {},
   "source": [
    "### Arguments with default values must come after all others in the `def`\n",
    "\n",
    "When default values are given for some arguments but not all, these must appear in the function definition after all the arguments without default values, as is the case with `h=1e-8` above."
   ]
  },
  {
   "cell_type": "markdown",
   "metadata": {},
   "source": [
    "<a name=Exercise-B></a>\n",
    "### Exercise B. A function with function inputs (and exceptions)\n",
    "\n",
    "A usually more accurate formula for approximating derivatives is the *Centered Difference Rule*\n",
    "$$Df(x) \\approx \\frac{f(x+h) - f(x-h)}{2 h}$$\n",
    "\n",
    "1. Write a function that uses this, with usage\n",
    "\n",
    "```Dfxh = Df_CD_approximation(f, x, h)```\n",
    "2. Give $h$ the default value $10^{-12}$\n",
    "3. Raise an exception if the forbidden value $h=0$ is used.\n",
    "4. Choose and implement a few test cases.\n",
    "\n",
    "You may do this all in the same notebook as above.\n",
    "\n",
    "If you wish to also do this in a Python code file, use a different file than the quadratic solving exercise; maybe named \"centered_differences.py\"."
   ]
  },
  {
   "cell_type": "markdown",
   "metadata": {},
   "source": [
    "## Optional topic: anonymous functions, a.k.a. lambda functions\n",
    "\n",
    "**Note:**\n",
    "*Some students might be interested in \"anonymous functions\", also known as \"lambda functions\", so here is a brief introduction.\n",
    "However, this topic is not needed for this course; it is only a convenience, and if you are new to computer programming, I suggest that you skip this section for now.*\n",
    "\n",
    "One inconvenience in the above example with `Df_approximation` is that we had to first put the values of each input argument into three variables.  Sometimes we would rather skip that step, and indeed we have seen that we could put the numerical argument values in directly:"
   ]
  },
  {
   "cell_type": "code",
   "execution_count": 36,
   "metadata": {},
   "outputs": [
    {
     "name": "stdout",
     "output_type": "stream",
     "text": [
      "The derivative is approximately 6.000200000002565\n"
     ]
    }
   ],
   "source": [
    "Df_x_h = Df_approximation(p, 4, 1e-4)\n",
    "print(f'The derivative is approximately {Df_x_h}')"
   ]
  },
  {
   "cell_type": "markdown",
   "metadata": {},
   "source": [
    "However, we still needed to define the function first, and give it a name, `p`.\n",
    "\n",
    "If the function is only ever used this one time, we can avoid this, specifying the function directly as an input argument value to the function `Df_approximation`, without first naming it.  This is done with what is called an *anonymous function*, or for mysterious historical reasons, a *lambda function*.\n",
    "\n",
    "For the example above, we can do this:"
   ]
  },
  {
   "cell_type": "code",
   "execution_count": 37,
   "metadata": {},
   "outputs": [
    {
     "name": "stdout",
     "output_type": "stream",
     "text": [
      "The derivative is approximately 6.000200000002565\n"
     ]
    }
   ],
   "source": [
    "Df_x_h = Df_approximation(lambda x: 2*x**2 - 10*x + 8, 4, 1e-4)\n",
    "print(f'The derivative is approximately {Df_x_h}')"
   ]
  },
  {
   "cell_type": "markdown",
   "metadata": {},
   "source": [
    "We can even do it all in a single line by composing two functions, `print` and `Df_approximation`:"
   ]
  },
  {
   "cell_type": "code",
   "execution_count": 38,
   "metadata": {},
   "outputs": [
    {
     "name": "stdout",
     "output_type": "stream",
     "text": [
      "The derivative is approximately 6.000200000002565\n"
     ]
    }
   ],
   "source": [
    "print(f'The derivative is approximately {Df_approximation(lambda x: 2*x**2 - 10*x + 8, 4, 1e-4)}')"
   ]
  },
  {
   "cell_type": "markdown",
   "metadata": {},
   "source": [
    "Here, the expression\n",
    "\n",
    "    lambda x: 2*x**2 - 10*x + 8\n",
    "creates a function that is mathematically the same as function `p` above; it just has no name.\n",
    "\n",
    "In general, the form is a single-line expression with four elements:\n",
    "- It starts with `lambda`\n",
    "- next is a list of input argument names, separated by commas if there are more than one (but no parentheses!?)\n",
    "- then a colon\n",
    "- and finally, a formula involving the input variables.\n",
    "\n",
    "We can, if we want, assign a lambda function to a variable, so we could have defined `p` as"
   ]
  },
  {
   "cell_type": "code",
   "execution_count": 39,
   "metadata": {},
   "outputs": [],
   "source": [
    "p = lambda x: 2*x**2 - 10*x + 8"
   ]
  },
  {
   "cell_type": "markdown",
   "metadata": {},
   "source": [
    "though I am not sure if that has any advantage over doing this with `def`:\n",
    "\n",
    "<a name=line38-add-return></a>"
   ]
  },
  {
   "cell_type": "code",
   "execution_count": 40,
   "metadata": {},
   "outputs": [],
   "source": [
    "def p(x): return 2*x**2 - 10*x + 8"
   ]
  },
  {
   "cell_type": "markdown",
   "metadata": {},
   "source": [
    "As an example of that, and also of having a lambda function that returns multiple values, here is yet another quadratic equation solver:"
   ]
  },
  {
   "cell_type": "code",
   "execution_count": 41,
   "metadata": {},
   "outputs": [],
   "source": [
    "solve_quadratic = lambda a, b, c: ( (-b + sqrt(b**2 - 4*a*c))/(2 * a), (-b - sqrt(b**2 - 4*a*c))/(2 * a) )"
   ]
  },
  {
   "cell_type": "code",
   "execution_count": 42,
   "metadata": {},
   "outputs": [
    {
     "name": "stdout",
     "output_type": "stream",
     "text": [
      "The roots of 2*x**2 - 10*x + 8 are (4.0, 1.0)\n"
     ]
    }
   ],
   "source": [
    "print(f'The roots of 2*x**2 - 10*x + 8 are {solve_quadratic(2, -10, 8)}')"
   ]
  },
  {
   "cell_type": "markdown",
   "metadata": {},
   "source": [
    "Anonymous functions have most of the fancy features of functions created with `def`, with the big exception that they must be defined on a single line.  For example, they also allow the use of keyword arguments, allowing the input argument values to be specified by keyword in any order. It is also possible to give default values to some arguments at the end of the argument list.\n",
    "\n",
    "To show off a few of these refinements:"
   ]
  },
  {
   "cell_type": "code",
   "execution_count": 43,
   "metadata": {},
   "outputs": [
    {
     "name": "stdout",
     "output_type": "stream",
     "text": [
      "The results, in order, are 1 and 4\n"
     ]
    }
   ],
   "source": [
    "printtwonumbersinorder(solve_quadratic(b=-10, a=2, c=8))"
   ]
  }
 ],
 "metadata": {
  "kernelspec": {
   "display_name": "Python 3",
   "language": "python",
   "name": "python3"
  },
  "language_info": {
   "codemirror_mode": {
    "name": "ipython",
    "version": 3
   },
   "file_extension": ".py",
   "mimetype": "text/x-python",
   "name": "python",
   "nbconvert_exporter": "python",
   "pygments_lexer": "ipython3",
   "version": "3.8.5"
  }
 },
 "nbformat": 4,
 "nbformat_minor": 4
}

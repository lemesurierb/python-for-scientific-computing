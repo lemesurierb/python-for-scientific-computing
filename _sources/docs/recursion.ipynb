{
 "cells": [
  {
   "cell_type": "markdown",
   "metadata": {},
   "source": [
    "# Recursion (vs iteration)\n",
    "\n",
    "*Estimated time to complete:* one hour."
   ]
  },
  {
   "cell_type": "markdown",
   "metadata": {},
   "source": [
    "## Introduction\n",
    "\n",
    "Although we have now seen all the essential tools for describing mathematical calculations and working with functions, there is one more algorithmic tool that can be very convenient, and is also of fundamental importance in the study of functions in both mathematics and theoretical computer science.\n",
    "\n",
    "This is **recursively defined functions**: where the definition of the function refers to other values of the same function.\n",
    "To avoid infinite loops, the other values are typically for input values that are in some sense \"earlier\" or \"smaller\", such as lower values of a natural number."
   ]
  },
  {
   "cell_type": "markdown",
   "metadata": {},
   "source": [
    "We have already seen two familiar examples in Unit 5; the factorial:\n",
    "$$\n",
    "\\begin{split}\n",
    "0! &= 1\n",
    "\\\\\n",
    "n! &= n \\cdot (n-1)! \\text{ for } n \\geq 1\n",
    "\\end{split}\n",
    "$$\n",
    "\n",
    "and the Fibonacci numbers\n",
    "$$\n",
    "\\begin{split}\n",
    "F_0 &= 1\n",
    "\\\\\n",
    "F_1 &= 1\n",
    "\\\\\n",
    "F_n &= F_{n-1} + F_{n-2} \\text{ for } n \\geq 2\n",
    "\\end{split}\n",
    "$$"
   ]
  },
  {
   "cell_type": "markdown",
   "metadata": {},
   "source": [
    "## Iterative form\n",
    "\n",
    "These can be implemented using iteration, as seen in Unit 5; here are two versions:"
   ]
  },
  {
   "cell_type": "code",
   "execution_count": 1,
   "metadata": {},
   "outputs": [],
   "source": [
    "def factorial_iterative(n):\n",
    "    n_factorial = 1\n",
    "    for i in range(2, n+1):  # n+1 to include the factor n\n",
    "        n_factorial *= i\n",
    "    return n_factorial"
   ]
  },
  {
   "cell_type": "code",
   "execution_count": 2,
   "metadata": {},
   "outputs": [
    {
     "name": "stdout",
     "output_type": "stream",
     "text": [
      "5! = 120\n",
      "Test some edge cases:\n",
      "0!= 1\n",
      "1!= 1\n"
     ]
    }
   ],
   "source": [
    "n = 5\n",
    "print(f'{n}! = {factorial_iterative(n)}')\n",
    "print('Test some edge cases:')\n",
    "print('0!=', factorial_iterative(0))\n",
    "print('1!=', factorial_iterative(1))"
   ]
  },
  {
   "cell_type": "code",
   "execution_count": 3,
   "metadata": {},
   "outputs": [],
   "source": [
    "def first_n_factorials(n):\n",
    "    factorials = [1]\n",
    "    for i in range(1, n):\n",
    "        factorials.append(factorials[-1]*i)\n",
    "    return factorials"
   ]
  },
  {
   "cell_type": "code",
   "execution_count": 4,
   "metadata": {},
   "outputs": [
    {
     "name": "stdout",
     "output_type": "stream",
     "text": [
      "The first 10 factorials (so up to 9!) are [1, 1, 2, 6, 24, 120, 720, 5040, 40320, 362880]\n"
     ]
    }
   ],
   "source": [
    "n = 10\n",
    "print(f'The first {n} factorials (so up to {n-1}!) are {first_n_factorials(n)}')"
   ]
  },
  {
   "cell_type": "markdown",
   "metadata": {},
   "source": [
    "## Recursive form\n",
    "However we can also use a form that is closer to the mathematical statement.\n",
    "\n",
    "First, let us put the factorial definition in more standard mathematical notation for functions\n",
    "$$\n",
    "\\begin{split}\n",
    "f(0) &= 1\n",
    "\\\\\n",
    "f(n) &= n \\cdot f(n-1) \\text{ for } n \\geq 1\n",
    "\\end{split}\n",
    "$$"
   ]
  },
  {
   "cell_type": "markdown",
   "metadata": {},
   "source": [
    "Next to make it more algorithmic and start the segue towards Python code, distinguish the two cases with an `if`\n",
    "\n",
    "if n = 0:  \n",
    "$\\qquad f(n) = 1$  \n",
    "else:  \n",
    "$\\qquad f(n) = n \\times f(n-1)$"
   ]
  },
  {
   "cell_type": "markdown",
   "metadata": {},
   "source": [
    "Here that is in Python code:"
   ]
  },
  {
   "cell_type": "code",
   "execution_count": 5,
   "metadata": {},
   "outputs": [],
   "source": [
    "def factorial_recursive(n):\n",
    "    if n == 0:\n",
    "        return 1\n",
    "    else:\n",
    "        return n * factorial_recursive(n-1)"
   ]
  },
  {
   "cell_type": "code",
   "execution_count": 6,
   "metadata": {},
   "outputs": [
    {
     "name": "stdout",
     "output_type": "stream",
     "text": [
      "9! = 362880\n"
     ]
    }
   ],
   "source": [
    "n = 9\n",
    "print(f'{n}! = {factorial_recursive(n)}')"
   ]
  },
  {
   "cell_type": "markdown",
   "metadata": {},
   "source": [
    "Yes, Python functions are allowed to call themselves, though one must beware that this could lead to an infinite loop."
   ]
  },
  {
   "cell_type": "markdown",
   "metadata": {},
   "source": [
    "<a name=Exercise-A></a>\n",
    "### Exercise A\n",
    "Can you see how you could cause that problem with this function?\n",
    "\n",
    "Try, and you will see that Python has some defences against this kind of infinite loop."
   ]
  },
  {
   "cell_type": "markdown",
   "metadata": {},
   "source": [
    "It can be illuminating to *trace* the steps with some extra print commands:"
   ]
  },
  {
   "cell_type": "code",
   "execution_count": 7,
   "metadata": {},
   "outputs": [],
   "source": [
    "def factorial_recursive_with_tracing(n, trace=False):\n",
    "    if trace:\n",
    "        print(f'n = {n}')\n",
    "    if n == 0:\n",
    "        factorial = 1\n",
    "    else:\n",
    "        factorial = n * factorial_recursive_with_tracing(n-1, trace)\n",
    "    if trace:\n",
    "        print(f'{n}! = {factorial}')\n",
    "    return factorial"
   ]
  },
  {
   "cell_type": "code",
   "execution_count": 8,
   "metadata": {},
   "outputs": [
    {
     "name": "stdout",
     "output_type": "stream",
     "text": [
      "n = 5\n",
      "n = 4\n",
      "n = 3\n",
      "n = 2\n",
      "n = 1\n",
      "n = 0\n",
      "0! = 1\n",
      "1! = 1\n",
      "2! = 2\n",
      "3! = 6\n",
      "4! = 24\n",
      "5! = 120\n",
      "The final result is 120\n"
     ]
    }
   ],
   "source": [
    "n = 5\n",
    "nfactorial = factorial_recursive_with_tracing(n, trace=True)\n",
    "print('The final result is', nfactorial)"
   ]
  },
  {
   "cell_type": "markdown",
   "metadata": {},
   "source": [
    "**Experiment:** Try sending this *tracing* version into an infinite loop.\n",
    "(In JupyterLab, note the square \"stop\" button to the right of the triangular \"play\" button!)"
   ]
  },
  {
   "cell_type": "markdown",
   "metadata": {},
   "source": [
    "<a name=Exercise-B></a>\n",
    "### Exercise B: Fibonacci numbers by recursion\n",
    "\n",
    "Write and test a recursive function to evaluate the $n$-th Fibonacci number $F_n$, mimicking the first, simplest recursive version for the factorial above.\n",
    "\n",
    "Do this without using either lists, arrays, or special variables holding the two previous values!\n",
    "\n",
    "If you have access to Spyder (or another Python IDE) develop and test this in a Python file \"exercise7b.py\" and submit that as well as a final notebook for this unit.\n",
    "\n",
    "Test for $n$ at least 5."
   ]
  },
  {
   "cell_type": "markdown",
   "metadata": {},
   "source": [
    "<a name=Exercise-C></a>\n",
    "### Exercise C: tracing the recursion\n",
    "\n",
    "Write and test a second recursive function to evaluate the first $n$ Fibonacci numbers,\n",
    "adding the option of tracing output, as in the second recursive example above.\n",
    "\n",
    "Again test for $n$ at least 5.\n",
    "\n",
    "\n",
    "Again, develop and test this in a Python file \"exercise7c.py\" initially if you have access to a suitable IDE.\n",
    "\n",
    "Comment on why this illustrates that, although recursive implementations can be very concise and elegant, they are sometimes very inefficient compared to expressing the calculation as an iteration with `for` or `while` loops."
   ]
  },
  {
   "cell_type": "markdown",
   "metadata": {},
   "source": [
    "<a name=Exercise-D></a>\n",
    "### Exercise D: present your work in a Jupyter notebook\n",
    "\n",
    "If you have not done so already, put all your code for the above exercises into a single Jupyter notebook.\n",
    "\n",
    "Make sure that, like all documents produced in this course, the notebook and any other files submitted have an appropriate title, your name, and the correct date at the top!\n",
    "\n",
    "Note the way I express the date as \"Last modified\"; keep this up-to-date when you revise."
   ]
  },
  {
   "cell_type": "markdown",
   "metadata": {},
   "source": [
    "## Bonus Material: Tail Recursion\n",
    "\n",
    "Some recursive algorithms are so-called *tail recursive*,\n",
    "which means that when a function calls itself, the \"calling\" invocation of the function has nothing more to do; the task is handed off entirely to the new invocation.\n",
    "This means that it can be possible to \"clean up\" by getting rid of all memory and such associated with the calling invocation of the function, eliminating that nesting seen in the above tracing and potentially improving efficiency by a lot.\n",
    "\n",
    "Some programming languages do this \"clean up\" of so-called \"tail calls\"; indeed *functional progamming languages* forbid variables to have their values changed within a function (so that functions in such a language are far more like real mathematical functions), and this rules out many `while` loop algorithms, like those above.\n",
    "Then recursion is a central tool, and there is a high piority on implementing recursion in this efficient way.\n",
    "\n",
    "For example, here is a tail recursive approach to the factorial:"
   ]
  },
  {
   "cell_type": "code",
   "execution_count": 9,
   "metadata": {},
   "outputs": [],
   "source": [
    "def factorial_tail_recursive(n):\n",
    "    '''For convenience, we wrap the actual \"working\" function inside one with simpler input:\n",
    "    '''\n",
    "    def tail_factorial(result_so_far, n):\n",
    "        print(f'result_so_far = {result_so_far}, n = {n}')\n",
    "        if n == 0:\n",
    "            return result_so_far\n",
    "        else:\n",
    "            return tail_factorial(result_so_far*n, n-1)\n",
    "    result_so_far = 1\n",
    "    return tail_factorial(result_so_far, n)"
   ]
  },
  {
   "cell_type": "code",
   "execution_count": 10,
   "metadata": {},
   "outputs": [
    {
     "name": "stdout",
     "output_type": "stream",
     "text": [
      "result_so_far = 1, n = 9\n",
      "result_so_far = 9, n = 8\n",
      "result_so_far = 72, n = 7\n",
      "result_so_far = 504, n = 6\n",
      "result_so_far = 3024, n = 5\n",
      "result_so_far = 15120, n = 4\n",
      "result_so_far = 60480, n = 3\n",
      "result_so_far = 181440, n = 2\n",
      "result_so_far = 362880, n = 1\n",
      "result_so_far = 362880, n = 0\n",
      "factorial_tail_recursive gives 9! = 362880\n",
      "\n",
      "For comparison,\n",
      "factorial_recursive gives 9! = 362880\n",
      "factorial_iterative gives 9! = 362880\n"
     ]
    }
   ],
   "source": [
    "n = 9\n",
    "print(f'factorial_tail_recursive gives {n}! = {factorial_tail_recursive(n)}')\n",
    "print('\\nFor comparison,')\n",
    "print(f'factorial_recursive gives {n}! = {factorial_recursive(n)}')\n",
    "print(f'factorial_iterative gives {n}! = {factorial_iterative(n)}')"
   ]
  },
  {
   "cell_type": "markdown",
   "metadata": {},
   "source": [
    "However, tail recursion is in general equivalent to iteration with a `while` loop, with the input and output of the tail recursive function instead being variables that are updated in the loop.\n",
    "Thus it is mostly a matter of preference as to how one expresses the algorithm.\n",
    "\n",
    "For example, the above can be rather straightforwardly translated to the following:"
   ]
  },
  {
   "cell_type": "code",
   "execution_count": 11,
   "metadata": {},
   "outputs": [],
   "source": [
    "def factorial_tailless(n, tracing=False):\n",
    "    result_so_far = 1\n",
    "    while n != 0:\n",
    "        if tracing:\n",
    "            print(f'result_so_far = {result_so_far}, n = {n}')\n",
    "        (result_so_far, n) = (result_so_far*n, n-1)\n",
    "    return result_so_far"
   ]
  },
  {
   "cell_type": "code",
   "execution_count": 12,
   "metadata": {},
   "outputs": [
    {
     "name": "stdout",
     "output_type": "stream",
     "text": [
      "factorial_tailless gives 9! = 362880\n"
     ]
    }
   ],
   "source": [
    "print(f'factorial_tailless gives {n}! = {factorial_tailless(n)}')"
   ]
  },
  {
   "cell_type": "markdown",
   "metadata": {},
   "source": [
    "## A final challenge (optional, and maybe hard!)\n",
    "\n",
    "Write a tail-recursive Python function for computing the Fibonacci number $F_n$."
   ]
  }
 ],
 "metadata": {
  "kernelspec": {
   "display_name": "Python 3",
   "language": "python",
   "name": "python3"
  },
  "language_info": {
   "codemirror_mode": {
    "name": "ipython",
    "version": 3
   },
   "file_extension": ".py",
   "mimetype": "text/x-python",
   "name": "python",
   "nbconvert_exporter": "python",
   "pygments_lexer": "ipython3",
   "version": "3.8.5"
  }
 },
 "nbformat": 4,
 "nbformat_minor": 4
}

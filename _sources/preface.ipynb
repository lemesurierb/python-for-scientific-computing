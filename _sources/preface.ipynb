{
 "cells": [
  {
   "cell_type": "markdown",
   "id": "matched-trout",
   "metadata": {},
   "source": [
    "# Preface\n",
    "\n",
    "**Brenton LeMesurier** [lemesurierb@cofc.edu](mailto:lemesurierb@cofc.edu) and in Spring 2021, also [brenton.lemesurier@unco.edu](mailto:brenton.lemesurier@unco.edu)\n",
    "\n",
    "**Last Revised: 2021-03-13**\n",
    "\n",
    "This [Jupyter Book](https://jupyterbook.org) is an in-progress conversion of the Jupyter notebooks for the course MATH 246 *Mathematical Computing and Programming Laboratory* at the College of Charleston.\n"
   ]
  },
  {
   "cell_type": "markdown",
   "id": "decimal-british",
   "metadata": {},
   "source": [
    "---\n",
    "This work is licensed under [Creative Commons Attribution-ShareAlike 4.0 International](https://creativecommons.org/licenses/by-sa/4.0/)"
   ]
  }
 ],
 "metadata": {
  "kernelspec": {
   "display_name": "Python 3",
   "language": "python",
   "name": "python3"
  },
  "language_info": {
   "codemirror_mode": {
    "name": "ipython",
    "version": 3
   },
   "file_extension": ".py",
   "mimetype": "text/x-python",
   "name": "python",
   "nbconvert_exporter": "python",
   "pygments_lexer": "ipython3",
   "version": "3.8.5"
  }
 },
 "nbformat": 4,
 "nbformat_minor": 5
}
